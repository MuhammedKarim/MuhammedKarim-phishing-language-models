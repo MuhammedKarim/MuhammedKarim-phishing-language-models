{
  "cells": [
    {
      "cell_type": "code",
      "execution_count": 1,
      "metadata": {
        "id": "v8czY3nwmceJ"
      },
      "outputs": [],
      "source": [
        "!pip install -q mlflow nlp datasets openai"
      ]
    },
    {
      "cell_type": "code",
      "execution_count": 2,
      "metadata": {
        "id": "_7F59QSkmceL"
      },
      "outputs": [],
      "source": [
        "#imports\n",
        "import pandas as pd\n",
        "import gc\n",
        "import re\n",
        "import numpy as np\n",
        "import torch\n",
        "import transformers\n",
        "from transformers import AutoModel, AutoTokenizer, TextDataset, LineByLineTextDataset, DataCollatorForLanguageModeling, \\\n",
        "pipeline, Trainer, TrainingArguments, DataCollatorWithPadding, AutoModelForSequenceClassification\n",
        "from huggingface_hub import login\n",
        "from torch import cuda, bfloat16\n",
        "from datasets import load_dataset\n",
        "from nlp import Dataset\n",
        "from imblearn.over_sampling import RandomOverSampler\n",
        "import datasets\n",
        "from transformers import pipeline\n",
        "from bs4 import BeautifulSoup\n",
        "from tqdm import tqdm\n",
        "from sklearn.metrics import accuracy_score, precision_recall_fscore_support, confusion_matrix, ConfusionMatrixDisplay\n",
        "import matplotlib.pyplot as plt\n",
        "from pathlib import Path\n",
        "import csv\n",
        "from openai import OpenAI\n",
        "tqdm.pandas()"
      ]
    },
    {
      "cell_type": "code",
      "execution_count": 3,
      "metadata": {
        "id": "Ognd5QOOmceL"
      },
      "outputs": [],
      "source": [
        "# set parameters\n",
        "train_fraction = 0.7 # fraction of a dataset used for training (the rest used for validation)\n",
        "num_train_epochs = 3 # epochs to train\n",
        "batch_size = 16 # batch size for training and validation\n",
        "warmup_steps = 50\n",
        "weight_decay = 0.02\n",
        "bert_model = \"google-bert/bert-base-uncased\"\n",
        "output_dir = \"./phishing-email-detection\""
      ]
    },
    {
      "cell_type": "code",
      "execution_count": 4,
      "metadata": {
        "colab": {
          "base_uri": "https://localhost:8080/",
          "height": 288
        },
        "id": "eO00FatlmceM",
        "outputId": "0483c882-fae2-450c-dfc2-9ef33c5edc82"
      },
      "outputs": [
        {
          "output_type": "stream",
          "name": "stderr",
          "text": [
            "/usr/local/lib/python3.10/dist-packages/huggingface_hub/utils/_token.py:89: UserWarning: \n",
            "The secret `HF_TOKEN` does not exist in your Colab secrets.\n",
            "To authenticate with the Hugging Face Hub, create a token in your settings tab (https://huggingface.co/settings/tokens), set it as secret in your Google Colab and restart your session.\n",
            "You will be able to reuse this secret in all of your notebooks.\n",
            "Please note that authentication is recommended but still optional to access public models or datasets.\n",
            "  warnings.warn(\n"
          ]
        },
        {
          "output_type": "stream",
          "name": "stdout",
          "text": [
            "(17539, 2)\n"
          ]
        },
        {
          "output_type": "execute_result",
          "data": {
            "text/plain": [
              "                                                        10664  \\\n",
              "Email Text  Hi guys,\\n\\tI'm looking for help on this one. ...   \n",
              "Email Type                                         Safe Email   \n",
              "\n",
              "                                                        14069  \\\n",
              "Email Text  Short version:\\nT-Mobile Broadband is in the p...   \n",
              "Email Type                                         Safe Email   \n",
              "\n",
              "                                                        1188   \\\n",
              "Email Text  hiya , , find your meds here . . stanchion biz...   \n",
              "Email Type                                     Phishing Email   \n",
              "\n",
              "                                                        6544   \\\n",
              "Email Text  cialis , xanax , valium , viagra at low price ...   \n",
              "Email Type                                     Phishing Email   \n",
              "\n",
              "                                                        1206   \n",
              "Email Text  cialis , xanax , valium , viagra at low price ...  \n",
              "Email Type                                     Phishing Email  "
            ],
            "text/html": [
              "\n",
              "  <div id=\"df-d897391a-23e2-4eb4-8fef-828d981002ea\" class=\"colab-df-container\">\n",
              "    <div>\n",
              "<style scoped>\n",
              "    .dataframe tbody tr th:only-of-type {\n",
              "        vertical-align: middle;\n",
              "    }\n",
              "\n",
              "    .dataframe tbody tr th {\n",
              "        vertical-align: top;\n",
              "    }\n",
              "\n",
              "    .dataframe thead th {\n",
              "        text-align: right;\n",
              "    }\n",
              "</style>\n",
              "<table border=\"1\" class=\"dataframe\">\n",
              "  <thead>\n",
              "    <tr style=\"text-align: right;\">\n",
              "      <th></th>\n",
              "      <th>10664</th>\n",
              "      <th>14069</th>\n",
              "      <th>1188</th>\n",
              "      <th>6544</th>\n",
              "      <th>1206</th>\n",
              "    </tr>\n",
              "  </thead>\n",
              "  <tbody>\n",
              "    <tr>\n",
              "      <th>Email Text</th>\n",
              "      <td>Hi guys,\\n\\tI'm looking for help on this one. ...</td>\n",
              "      <td>Short version:\\nT-Mobile Broadband is in the p...</td>\n",
              "      <td>hiya , , find your meds here . . stanchion biz...</td>\n",
              "      <td>cialis , xanax , valium , viagra at low price ...</td>\n",
              "      <td>cialis , xanax , valium , viagra at low price ...</td>\n",
              "    </tr>\n",
              "    <tr>\n",
              "      <th>Email Type</th>\n",
              "      <td>Safe Email</td>\n",
              "      <td>Safe Email</td>\n",
              "      <td>Phishing Email</td>\n",
              "      <td>Phishing Email</td>\n",
              "      <td>Phishing Email</td>\n",
              "    </tr>\n",
              "  </tbody>\n",
              "</table>\n",
              "</div>\n",
              "    <div class=\"colab-df-buttons\">\n",
              "\n",
              "  <div class=\"colab-df-container\">\n",
              "    <button class=\"colab-df-convert\" onclick=\"convertToInteractive('df-d897391a-23e2-4eb4-8fef-828d981002ea')\"\n",
              "            title=\"Convert this dataframe to an interactive table.\"\n",
              "            style=\"display:none;\">\n",
              "\n",
              "  <svg xmlns=\"http://www.w3.org/2000/svg\" height=\"24px\" viewBox=\"0 -960 960 960\">\n",
              "    <path d=\"M120-120v-720h720v720H120Zm60-500h600v-160H180v160Zm220 220h160v-160H400v160Zm0 220h160v-160H400v160ZM180-400h160v-160H180v160Zm440 0h160v-160H620v160ZM180-180h160v-160H180v160Zm440 0h160v-160H620v160Z\"/>\n",
              "  </svg>\n",
              "    </button>\n",
              "\n",
              "  <style>\n",
              "    .colab-df-container {\n",
              "      display:flex;\n",
              "      gap: 12px;\n",
              "    }\n",
              "\n",
              "    .colab-df-convert {\n",
              "      background-color: #E8F0FE;\n",
              "      border: none;\n",
              "      border-radius: 50%;\n",
              "      cursor: pointer;\n",
              "      display: none;\n",
              "      fill: #1967D2;\n",
              "      height: 32px;\n",
              "      padding: 0 0 0 0;\n",
              "      width: 32px;\n",
              "    }\n",
              "\n",
              "    .colab-df-convert:hover {\n",
              "      background-color: #E2EBFA;\n",
              "      box-shadow: 0px 1px 2px rgba(60, 64, 67, 0.3), 0px 1px 3px 1px rgba(60, 64, 67, 0.15);\n",
              "      fill: #174EA6;\n",
              "    }\n",
              "\n",
              "    .colab-df-buttons div {\n",
              "      margin-bottom: 4px;\n",
              "    }\n",
              "\n",
              "    [theme=dark] .colab-df-convert {\n",
              "      background-color: #3B4455;\n",
              "      fill: #D2E3FC;\n",
              "    }\n",
              "\n",
              "    [theme=dark] .colab-df-convert:hover {\n",
              "      background-color: #434B5C;\n",
              "      box-shadow: 0px 1px 3px 1px rgba(0, 0, 0, 0.15);\n",
              "      filter: drop-shadow(0px 1px 2px rgba(0, 0, 0, 0.3));\n",
              "      fill: #FFFFFF;\n",
              "    }\n",
              "  </style>\n",
              "\n",
              "    <script>\n",
              "      const buttonEl =\n",
              "        document.querySelector('#df-d897391a-23e2-4eb4-8fef-828d981002ea button.colab-df-convert');\n",
              "      buttonEl.style.display =\n",
              "        google.colab.kernel.accessAllowed ? 'block' : 'none';\n",
              "\n",
              "      async function convertToInteractive(key) {\n",
              "        const element = document.querySelector('#df-d897391a-23e2-4eb4-8fef-828d981002ea');\n",
              "        const dataTable =\n",
              "          await google.colab.kernel.invokeFunction('convertToInteractive',\n",
              "                                                    [key], {});\n",
              "        if (!dataTable) return;\n",
              "\n",
              "        const docLinkHtml = 'Like what you see? Visit the ' +\n",
              "          '<a target=\"_blank\" href=https://colab.research.google.com/notebooks/data_table.ipynb>data table notebook</a>'\n",
              "          + ' to learn more about interactive tables.';\n",
              "        element.innerHTML = '';\n",
              "        dataTable['output_type'] = 'display_data';\n",
              "        await google.colab.output.renderOutput(dataTable, element);\n",
              "        const docLink = document.createElement('div');\n",
              "        docLink.innerHTML = docLinkHtml;\n",
              "        element.appendChild(docLink);\n",
              "      }\n",
              "    </script>\n",
              "  </div>\n",
              "\n",
              "\n",
              "<div id=\"df-b451d771-1f67-427a-b7ac-e7e919e74fe1\">\n",
              "  <button class=\"colab-df-quickchart\" onclick=\"quickchart('df-b451d771-1f67-427a-b7ac-e7e919e74fe1')\"\n",
              "            title=\"Suggest charts\"\n",
              "            style=\"display:none;\">\n",
              "\n",
              "<svg xmlns=\"http://www.w3.org/2000/svg\" height=\"24px\"viewBox=\"0 0 24 24\"\n",
              "     width=\"24px\">\n",
              "    <g>\n",
              "        <path d=\"M19 3H5c-1.1 0-2 .9-2 2v14c0 1.1.9 2 2 2h14c1.1 0 2-.9 2-2V5c0-1.1-.9-2-2-2zM9 17H7v-7h2v7zm4 0h-2V7h2v10zm4 0h-2v-4h2v4z\"/>\n",
              "    </g>\n",
              "</svg>\n",
              "  </button>\n",
              "\n",
              "<style>\n",
              "  .colab-df-quickchart {\n",
              "      --bg-color: #E8F0FE;\n",
              "      --fill-color: #1967D2;\n",
              "      --hover-bg-color: #E2EBFA;\n",
              "      --hover-fill-color: #174EA6;\n",
              "      --disabled-fill-color: #AAA;\n",
              "      --disabled-bg-color: #DDD;\n",
              "  }\n",
              "\n",
              "  [theme=dark] .colab-df-quickchart {\n",
              "      --bg-color: #3B4455;\n",
              "      --fill-color: #D2E3FC;\n",
              "      --hover-bg-color: #434B5C;\n",
              "      --hover-fill-color: #FFFFFF;\n",
              "      --disabled-bg-color: #3B4455;\n",
              "      --disabled-fill-color: #666;\n",
              "  }\n",
              "\n",
              "  .colab-df-quickchart {\n",
              "    background-color: var(--bg-color);\n",
              "    border: none;\n",
              "    border-radius: 50%;\n",
              "    cursor: pointer;\n",
              "    display: none;\n",
              "    fill: var(--fill-color);\n",
              "    height: 32px;\n",
              "    padding: 0;\n",
              "    width: 32px;\n",
              "  }\n",
              "\n",
              "  .colab-df-quickchart:hover {\n",
              "    background-color: var(--hover-bg-color);\n",
              "    box-shadow: 0 1px 2px rgba(60, 64, 67, 0.3), 0 1px 3px 1px rgba(60, 64, 67, 0.15);\n",
              "    fill: var(--button-hover-fill-color);\n",
              "  }\n",
              "\n",
              "  .colab-df-quickchart-complete:disabled,\n",
              "  .colab-df-quickchart-complete:disabled:hover {\n",
              "    background-color: var(--disabled-bg-color);\n",
              "    fill: var(--disabled-fill-color);\n",
              "    box-shadow: none;\n",
              "  }\n",
              "\n",
              "  .colab-df-spinner {\n",
              "    border: 2px solid var(--fill-color);\n",
              "    border-color: transparent;\n",
              "    border-bottom-color: var(--fill-color);\n",
              "    animation:\n",
              "      spin 1s steps(1) infinite;\n",
              "  }\n",
              "\n",
              "  @keyframes spin {\n",
              "    0% {\n",
              "      border-color: transparent;\n",
              "      border-bottom-color: var(--fill-color);\n",
              "      border-left-color: var(--fill-color);\n",
              "    }\n",
              "    20% {\n",
              "      border-color: transparent;\n",
              "      border-left-color: var(--fill-color);\n",
              "      border-top-color: var(--fill-color);\n",
              "    }\n",
              "    30% {\n",
              "      border-color: transparent;\n",
              "      border-left-color: var(--fill-color);\n",
              "      border-top-color: var(--fill-color);\n",
              "      border-right-color: var(--fill-color);\n",
              "    }\n",
              "    40% {\n",
              "      border-color: transparent;\n",
              "      border-right-color: var(--fill-color);\n",
              "      border-top-color: var(--fill-color);\n",
              "    }\n",
              "    60% {\n",
              "      border-color: transparent;\n",
              "      border-right-color: var(--fill-color);\n",
              "    }\n",
              "    80% {\n",
              "      border-color: transparent;\n",
              "      border-right-color: var(--fill-color);\n",
              "      border-bottom-color: var(--fill-color);\n",
              "    }\n",
              "    90% {\n",
              "      border-color: transparent;\n",
              "      border-bottom-color: var(--fill-color);\n",
              "    }\n",
              "  }\n",
              "</style>\n",
              "\n",
              "  <script>\n",
              "    async function quickchart(key) {\n",
              "      const quickchartButtonEl =\n",
              "        document.querySelector('#' + key + ' button');\n",
              "      quickchartButtonEl.disabled = true;  // To prevent multiple clicks.\n",
              "      quickchartButtonEl.classList.add('colab-df-spinner');\n",
              "      try {\n",
              "        const charts = await google.colab.kernel.invokeFunction(\n",
              "            'suggestCharts', [key], {});\n",
              "      } catch (error) {\n",
              "        console.error('Error during call to suggestCharts:', error);\n",
              "      }\n",
              "      quickchartButtonEl.classList.remove('colab-df-spinner');\n",
              "      quickchartButtonEl.classList.add('colab-df-quickchart-complete');\n",
              "    }\n",
              "    (() => {\n",
              "      let quickchartButtonEl =\n",
              "        document.querySelector('#df-b451d771-1f67-427a-b7ac-e7e919e74fe1 button');\n",
              "      quickchartButtonEl.style.display =\n",
              "        google.colab.kernel.accessAllowed ? 'block' : 'none';\n",
              "    })();\n",
              "  </script>\n",
              "</div>\n",
              "\n",
              "    </div>\n",
              "  </div>\n"
            ],
            "application/vnd.google.colaboratory.intrinsic+json": {
              "type": "dataframe",
              "summary": "{\n  \"name\": \"df\",\n  \"rows\": 2,\n  \"fields\": [\n    {\n      \"column\": 10664,\n      \"properties\": {\n        \"dtype\": \"string\",\n        \"num_unique_values\": 2,\n        \"samples\": [\n          \"Safe Email\",\n          \"Hi guys,\\n\\tI'm looking for help on this one. I have a server with SME5.5 installed\\n- used to be e-smith. It's based on RH7.1, has a 3c507 NIC, and is\\nconnected to a hub. Also connected to the hub are a laptop and\\nworkstation, both with RH7.3 . The server supplies DHCP amongst other\\nthings.\\n\\tThe problem is interruptions in the network. If I ping the laptop from\\nthe workstation, or the other way around, there are no problems, i.e.\\nshows up as 0% loss. If however I ping the server from the laptop or\\nworkstation, it will do a few packets, anywhere from 3 to 20, and then\\nstop responding, it will start again after a little while.\\n\\tThe server is definitely not overloaded, 128Mb, and seems to be\\nconfigured correctly. In /etc/modules.conf,;options 3c507 irq=0x5 io=0x300\\nalias eth0 3c507there is an option in there for something called hisax, but whatever\\nthat is, the machine doesn't have one.\\n\\tdoing route shows 192.168.0.0 as going through eth0 which is correct.\\tAny help on this appreciated.\\tEamonn\\n-- \\nIrish Linux Users' Group: ilug@linux.ie\\nhttp://www.linux.ie/mailman/listinfo/ilug for (un)subscription information.\\nList maintainer: listmaster@linux.ie\\n\"\n        ],\n        \"semantic_type\": \"\",\n        \"description\": \"\"\n      }\n    },\n    {\n      \"column\": 14069,\n      \"properties\": {\n        \"dtype\": \"string\",\n        \"num_unique_values\": 2,\n        \"samples\": [\n          \"Safe Email\",\n          \"Short version:\\nT-Mobile Broadband is in the process of wiring every starbucks in the area\\n(T1 backhauled to some ~local POP + 802.11) as part of what I'm told is a\\nnational rollout. The Diesel is close enough to the Elm St starbucks for me\\nto get reasonable net throughout most of the cafe. The rumor is that they'll be announcing that they've got boston covered on\\nthe 21st.  I've heard from at least one source that they're actually going\\nto announce a much wider national rollout at that time.  It's not cheap [1], but\\nfor soemone like me who's running a ~virtual corporation, it's well worth it.[1] https://accounts.tmobilebroadband.com/net_offers_promos.htmOn Thu, Aug 15, 2002 at 04:51:07PM -0400, Luis Villa wrote:\\n> On Thu, 2002-08-15 at 16:38, Jesse wrote:\\n> > Strata just walked up to me in a cafe in Somerville, MA and\\n> > asked me how I was getting net here. And _then_ we figured out \\n> > that we have shared context.\\n> \\n> The obvious followup is 'there's a cafe in somerville with net access?'\\n> Luis [19 Pitman St.]\\n> http://xent.com/mailman/listinfo/fork\\n> -- \\njesse reed vincent -- root@eruditorum.org -- jesse@fsck.com \\n70EBAC90: 2A07 FC22 7DB4 42C1 9D71 0108 41A3 3FB3 70EB AC90autoconf is your friend until it mysteriously stops working, at which \\npoint it is a snarling wolverine attached to your genitals by its teeth\\n (that said, it's better than most of the alternatives)  -- Nathan Mehl\\nhttp://xent.com/mailman/listinfo/fork\"\n        ],\n        \"semantic_type\": \"\",\n        \"description\": \"\"\n      }\n    },\n    {\n      \"column\": 1188,\n      \"properties\": {\n        \"dtype\": \"string\",\n        \"num_unique_values\": 2,\n        \"samples\": [\n          \"Phishing Email\",\n          \"hiya , , find your meds here . . stanchion bizarre save over 50 % onkprescriptionpdrugs with our on - linespharmacy you can 1 . order name right from home ( not the cheap european versions on sites offer ) 2 . get it shipped same day to your door step 3 . never have to worry about getting a doctorqto write the prescriptioncagain 4 . save hundreds of dollars over your localipharmacy if all this sounds good to you then you need to click here for more about what we offer . we carry everything from vicodin , valum , xanax , and viagra . so go to our site to see how much we can save you today .\"\n        ],\n        \"semantic_type\": \"\",\n        \"description\": \"\"\n      }\n    },\n    {\n      \"column\": 6544,\n      \"properties\": {\n        \"dtype\": \"string\",\n        \"num_unique_values\": 2,\n        \"samples\": [\n          \"Phishing Email\",\n          \"cialis , xanax , valium , viagra at low price ! no prescription needed ! discount rx is simple , quick , and affordable ! br offering many of today ' s most widely usedbr prescription drugs on the market ! brbr ambien , viagra , xenical , valium , prozac , xanax and many more ! br just click below for these special savings !\"\n        ],\n        \"semantic_type\": \"\",\n        \"description\": \"\"\n      }\n    },\n    {\n      \"column\": 1206,\n      \"properties\": {\n        \"dtype\": \"string\",\n        \"num_unique_values\": 2,\n        \"samples\": [\n          \"Phishing Email\",\n          \"cialis , xanax , valium , viagra at low price ! no prescription needed ! discount rx is simple , quick , and affordable ! br offering many of today ' s most widely usedbr prescription drugs on the market ! brbr viagra , ambien , meridia , propecia , valium , xanax and many more ! br just click below for these special savings ! a href = http : / / www . k 8 cheapnow . com / index . php ? id = 188 click here now !\"\n        ],\n        \"semantic_type\": \"\",\n        \"description\": \"\"\n      }\n    }\n  ]\n}"
            }
          },
          "metadata": {},
          "execution_count": 4
        }
      ],
      "source": [
        "dataset = load_dataset(\"zefang-liu/phishing-email-dataset\", trust_remote_code=True)\n",
        "df = dataset['train'].to_pandas()\n",
        "df.drop(['Unnamed: 0'], axis=1, inplace=True)\n",
        "df.drop_duplicates(inplace=True)\n",
        "print(df.shape)\n",
        "df.sample(5).T"
      ]
    },
    {
      "cell_type": "code",
      "execution_count": 5,
      "metadata": {
        "colab": {
          "base_uri": "https://localhost:8080/",
          "height": 693
        },
        "id": "HYUMATbamceM",
        "outputId": "35209a65-2aeb-4b13-a475-b07da67eabeb"
      },
      "outputs": [
        {
          "output_type": "stream",
          "name": "stdout",
          "text": [
            "(17539, 2)\n"
          ]
        },
        {
          "output_type": "execute_result",
          "data": {
            "text/plain": [
              "                                                   title  label\n",
              "33     release of agfl home page this message announc...      0\n",
              "17206  analyst & associate program - business school ...      0\n",
              "1953   fw : mark boland - cv vince : tony vasut , ano...      0\n",
              "276    Tired of Mounting Credit Card Debt?\\nFrustrate...      1\n",
              "9932   march nominations at shell deer park - - - - -...      0\n",
              "5363   tw ' s christmas luncheon steve harris and the...      0\n",
              "13273  re : hpl meter # 986563 texaco fee c / p clem ...      0\n",
              "8253   board presentation attached is the board prese...      0\n",
              "3723   hello thtijred of only las $ tinfg a few minut...      1\n",
              "12640  case-marked locatives does anyone know about l...      0\n",
              "1035   Â \\nHerbal Alternative\\nfor Erectile Dysfuncti...      1\n",
              "8442   start date : 1 / 1 / 02 ; hourahead hour : 14 ...      0\n",
              "16694  re : integration meeting louise , just as an f...      0\n",
              "10251  claim money you never knew you had to unsubscr...      1\n",
              "17575  \\nForwarded-by: Rob Windsor \\nForwarded-by: \"S...      0\n",
              "5851   jan 1 noms - - - - - - - - - - - - - - - - - -...      0\n",
              "621    duke deliveries to mobil apparently , we inadv...      0\n",
              "17014  just cents on the dollar : windows xp , office...      1\n",
              "15384  78 % off for all new software . surveyed exult...      1\n",
              "16078  sky 1997 yearbook of the linguistic associatio...      0"
            ],
            "text/html": [
              "\n",
              "  <div id=\"df-b7350480-d084-4882-a783-329970419e15\" class=\"colab-df-container\">\n",
              "    <div>\n",
              "<style scoped>\n",
              "    .dataframe tbody tr th:only-of-type {\n",
              "        vertical-align: middle;\n",
              "    }\n",
              "\n",
              "    .dataframe tbody tr th {\n",
              "        vertical-align: top;\n",
              "    }\n",
              "\n",
              "    .dataframe thead th {\n",
              "        text-align: right;\n",
              "    }\n",
              "</style>\n",
              "<table border=\"1\" class=\"dataframe\">\n",
              "  <thead>\n",
              "    <tr style=\"text-align: right;\">\n",
              "      <th></th>\n",
              "      <th>title</th>\n",
              "      <th>label</th>\n",
              "    </tr>\n",
              "  </thead>\n",
              "  <tbody>\n",
              "    <tr>\n",
              "      <th>33</th>\n",
              "      <td>release of agfl home page this message announc...</td>\n",
              "      <td>0</td>\n",
              "    </tr>\n",
              "    <tr>\n",
              "      <th>17206</th>\n",
              "      <td>analyst &amp; associate program - business school ...</td>\n",
              "      <td>0</td>\n",
              "    </tr>\n",
              "    <tr>\n",
              "      <th>1953</th>\n",
              "      <td>fw : mark boland - cv vince : tony vasut , ano...</td>\n",
              "      <td>0</td>\n",
              "    </tr>\n",
              "    <tr>\n",
              "      <th>276</th>\n",
              "      <td>Tired of Mounting Credit Card Debt?\\nFrustrate...</td>\n",
              "      <td>1</td>\n",
              "    </tr>\n",
              "    <tr>\n",
              "      <th>9932</th>\n",
              "      <td>march nominations at shell deer park - - - - -...</td>\n",
              "      <td>0</td>\n",
              "    </tr>\n",
              "    <tr>\n",
              "      <th>5363</th>\n",
              "      <td>tw ' s christmas luncheon steve harris and the...</td>\n",
              "      <td>0</td>\n",
              "    </tr>\n",
              "    <tr>\n",
              "      <th>13273</th>\n",
              "      <td>re : hpl meter # 986563 texaco fee c / p clem ...</td>\n",
              "      <td>0</td>\n",
              "    </tr>\n",
              "    <tr>\n",
              "      <th>8253</th>\n",
              "      <td>board presentation attached is the board prese...</td>\n",
              "      <td>0</td>\n",
              "    </tr>\n",
              "    <tr>\n",
              "      <th>3723</th>\n",
              "      <td>hello thtijred of only las $ tinfg a few minut...</td>\n",
              "      <td>1</td>\n",
              "    </tr>\n",
              "    <tr>\n",
              "      <th>12640</th>\n",
              "      <td>case-marked locatives does anyone know about l...</td>\n",
              "      <td>0</td>\n",
              "    </tr>\n",
              "    <tr>\n",
              "      <th>1035</th>\n",
              "      <td>Â \\nHerbal Alternative\\nfor Erectile Dysfuncti...</td>\n",
              "      <td>1</td>\n",
              "    </tr>\n",
              "    <tr>\n",
              "      <th>8442</th>\n",
              "      <td>start date : 1 / 1 / 02 ; hourahead hour : 14 ...</td>\n",
              "      <td>0</td>\n",
              "    </tr>\n",
              "    <tr>\n",
              "      <th>16694</th>\n",
              "      <td>re : integration meeting louise , just as an f...</td>\n",
              "      <td>0</td>\n",
              "    </tr>\n",
              "    <tr>\n",
              "      <th>10251</th>\n",
              "      <td>claim money you never knew you had to unsubscr...</td>\n",
              "      <td>1</td>\n",
              "    </tr>\n",
              "    <tr>\n",
              "      <th>17575</th>\n",
              "      <td>\\nForwarded-by: Rob Windsor \\nForwarded-by: \"S...</td>\n",
              "      <td>0</td>\n",
              "    </tr>\n",
              "    <tr>\n",
              "      <th>5851</th>\n",
              "      <td>jan 1 noms - - - - - - - - - - - - - - - - - -...</td>\n",
              "      <td>0</td>\n",
              "    </tr>\n",
              "    <tr>\n",
              "      <th>621</th>\n",
              "      <td>duke deliveries to mobil apparently , we inadv...</td>\n",
              "      <td>0</td>\n",
              "    </tr>\n",
              "    <tr>\n",
              "      <th>17014</th>\n",
              "      <td>just cents on the dollar : windows xp , office...</td>\n",
              "      <td>1</td>\n",
              "    </tr>\n",
              "    <tr>\n",
              "      <th>15384</th>\n",
              "      <td>78 % off for all new software . surveyed exult...</td>\n",
              "      <td>1</td>\n",
              "    </tr>\n",
              "    <tr>\n",
              "      <th>16078</th>\n",
              "      <td>sky 1997 yearbook of the linguistic associatio...</td>\n",
              "      <td>0</td>\n",
              "    </tr>\n",
              "  </tbody>\n",
              "</table>\n",
              "</div>\n",
              "    <div class=\"colab-df-buttons\">\n",
              "\n",
              "  <div class=\"colab-df-container\">\n",
              "    <button class=\"colab-df-convert\" onclick=\"convertToInteractive('df-b7350480-d084-4882-a783-329970419e15')\"\n",
              "            title=\"Convert this dataframe to an interactive table.\"\n",
              "            style=\"display:none;\">\n",
              "\n",
              "  <svg xmlns=\"http://www.w3.org/2000/svg\" height=\"24px\" viewBox=\"0 -960 960 960\">\n",
              "    <path d=\"M120-120v-720h720v720H120Zm60-500h600v-160H180v160Zm220 220h160v-160H400v160Zm0 220h160v-160H400v160ZM180-400h160v-160H180v160Zm440 0h160v-160H620v160ZM180-180h160v-160H180v160Zm440 0h160v-160H620v160Z\"/>\n",
              "  </svg>\n",
              "    </button>\n",
              "\n",
              "  <style>\n",
              "    .colab-df-container {\n",
              "      display:flex;\n",
              "      gap: 12px;\n",
              "    }\n",
              "\n",
              "    .colab-df-convert {\n",
              "      background-color: #E8F0FE;\n",
              "      border: none;\n",
              "      border-radius: 50%;\n",
              "      cursor: pointer;\n",
              "      display: none;\n",
              "      fill: #1967D2;\n",
              "      height: 32px;\n",
              "      padding: 0 0 0 0;\n",
              "      width: 32px;\n",
              "    }\n",
              "\n",
              "    .colab-df-convert:hover {\n",
              "      background-color: #E2EBFA;\n",
              "      box-shadow: 0px 1px 2px rgba(60, 64, 67, 0.3), 0px 1px 3px 1px rgba(60, 64, 67, 0.15);\n",
              "      fill: #174EA6;\n",
              "    }\n",
              "\n",
              "    .colab-df-buttons div {\n",
              "      margin-bottom: 4px;\n",
              "    }\n",
              "\n",
              "    [theme=dark] .colab-df-convert {\n",
              "      background-color: #3B4455;\n",
              "      fill: #D2E3FC;\n",
              "    }\n",
              "\n",
              "    [theme=dark] .colab-df-convert:hover {\n",
              "      background-color: #434B5C;\n",
              "      box-shadow: 0px 1px 3px 1px rgba(0, 0, 0, 0.15);\n",
              "      filter: drop-shadow(0px 1px 2px rgba(0, 0, 0, 0.3));\n",
              "      fill: #FFFFFF;\n",
              "    }\n",
              "  </style>\n",
              "\n",
              "    <script>\n",
              "      const buttonEl =\n",
              "        document.querySelector('#df-b7350480-d084-4882-a783-329970419e15 button.colab-df-convert');\n",
              "      buttonEl.style.display =\n",
              "        google.colab.kernel.accessAllowed ? 'block' : 'none';\n",
              "\n",
              "      async function convertToInteractive(key) {\n",
              "        const element = document.querySelector('#df-b7350480-d084-4882-a783-329970419e15');\n",
              "        const dataTable =\n",
              "          await google.colab.kernel.invokeFunction('convertToInteractive',\n",
              "                                                    [key], {});\n",
              "        if (!dataTable) return;\n",
              "\n",
              "        const docLinkHtml = 'Like what you see? Visit the ' +\n",
              "          '<a target=\"_blank\" href=https://colab.research.google.com/notebooks/data_table.ipynb>data table notebook</a>'\n",
              "          + ' to learn more about interactive tables.';\n",
              "        element.innerHTML = '';\n",
              "        dataTable['output_type'] = 'display_data';\n",
              "        await google.colab.output.renderOutput(dataTable, element);\n",
              "        const docLink = document.createElement('div');\n",
              "        docLink.innerHTML = docLinkHtml;\n",
              "        element.appendChild(docLink);\n",
              "      }\n",
              "    </script>\n",
              "  </div>\n",
              "\n",
              "\n",
              "<div id=\"df-12842cd5-025f-431b-b8c4-a700bf8ec5ea\">\n",
              "  <button class=\"colab-df-quickchart\" onclick=\"quickchart('df-12842cd5-025f-431b-b8c4-a700bf8ec5ea')\"\n",
              "            title=\"Suggest charts\"\n",
              "            style=\"display:none;\">\n",
              "\n",
              "<svg xmlns=\"http://www.w3.org/2000/svg\" height=\"24px\"viewBox=\"0 0 24 24\"\n",
              "     width=\"24px\">\n",
              "    <g>\n",
              "        <path d=\"M19 3H5c-1.1 0-2 .9-2 2v14c0 1.1.9 2 2 2h14c1.1 0 2-.9 2-2V5c0-1.1-.9-2-2-2zM9 17H7v-7h2v7zm4 0h-2V7h2v10zm4 0h-2v-4h2v4z\"/>\n",
              "    </g>\n",
              "</svg>\n",
              "  </button>\n",
              "\n",
              "<style>\n",
              "  .colab-df-quickchart {\n",
              "      --bg-color: #E8F0FE;\n",
              "      --fill-color: #1967D2;\n",
              "      --hover-bg-color: #E2EBFA;\n",
              "      --hover-fill-color: #174EA6;\n",
              "      --disabled-fill-color: #AAA;\n",
              "      --disabled-bg-color: #DDD;\n",
              "  }\n",
              "\n",
              "  [theme=dark] .colab-df-quickchart {\n",
              "      --bg-color: #3B4455;\n",
              "      --fill-color: #D2E3FC;\n",
              "      --hover-bg-color: #434B5C;\n",
              "      --hover-fill-color: #FFFFFF;\n",
              "      --disabled-bg-color: #3B4455;\n",
              "      --disabled-fill-color: #666;\n",
              "  }\n",
              "\n",
              "  .colab-df-quickchart {\n",
              "    background-color: var(--bg-color);\n",
              "    border: none;\n",
              "    border-radius: 50%;\n",
              "    cursor: pointer;\n",
              "    display: none;\n",
              "    fill: var(--fill-color);\n",
              "    height: 32px;\n",
              "    padding: 0;\n",
              "    width: 32px;\n",
              "  }\n",
              "\n",
              "  .colab-df-quickchart:hover {\n",
              "    background-color: var(--hover-bg-color);\n",
              "    box-shadow: 0 1px 2px rgba(60, 64, 67, 0.3), 0 1px 3px 1px rgba(60, 64, 67, 0.15);\n",
              "    fill: var(--button-hover-fill-color);\n",
              "  }\n",
              "\n",
              "  .colab-df-quickchart-complete:disabled,\n",
              "  .colab-df-quickchart-complete:disabled:hover {\n",
              "    background-color: var(--disabled-bg-color);\n",
              "    fill: var(--disabled-fill-color);\n",
              "    box-shadow: none;\n",
              "  }\n",
              "\n",
              "  .colab-df-spinner {\n",
              "    border: 2px solid var(--fill-color);\n",
              "    border-color: transparent;\n",
              "    border-bottom-color: var(--fill-color);\n",
              "    animation:\n",
              "      spin 1s steps(1) infinite;\n",
              "  }\n",
              "\n",
              "  @keyframes spin {\n",
              "    0% {\n",
              "      border-color: transparent;\n",
              "      border-bottom-color: var(--fill-color);\n",
              "      border-left-color: var(--fill-color);\n",
              "    }\n",
              "    20% {\n",
              "      border-color: transparent;\n",
              "      border-left-color: var(--fill-color);\n",
              "      border-top-color: var(--fill-color);\n",
              "    }\n",
              "    30% {\n",
              "      border-color: transparent;\n",
              "      border-left-color: var(--fill-color);\n",
              "      border-top-color: var(--fill-color);\n",
              "      border-right-color: var(--fill-color);\n",
              "    }\n",
              "    40% {\n",
              "      border-color: transparent;\n",
              "      border-right-color: var(--fill-color);\n",
              "      border-top-color: var(--fill-color);\n",
              "    }\n",
              "    60% {\n",
              "      border-color: transparent;\n",
              "      border-right-color: var(--fill-color);\n",
              "    }\n",
              "    80% {\n",
              "      border-color: transparent;\n",
              "      border-right-color: var(--fill-color);\n",
              "      border-bottom-color: var(--fill-color);\n",
              "    }\n",
              "    90% {\n",
              "      border-color: transparent;\n",
              "      border-bottom-color: var(--fill-color);\n",
              "    }\n",
              "  }\n",
              "</style>\n",
              "\n",
              "  <script>\n",
              "    async function quickchart(key) {\n",
              "      const quickchartButtonEl =\n",
              "        document.querySelector('#' + key + ' button');\n",
              "      quickchartButtonEl.disabled = true;  // To prevent multiple clicks.\n",
              "      quickchartButtonEl.classList.add('colab-df-spinner');\n",
              "      try {\n",
              "        const charts = await google.colab.kernel.invokeFunction(\n",
              "            'suggestCharts', [key], {});\n",
              "      } catch (error) {\n",
              "        console.error('Error during call to suggestCharts:', error);\n",
              "      }\n",
              "      quickchartButtonEl.classList.remove('colab-df-spinner');\n",
              "      quickchartButtonEl.classList.add('colab-df-quickchart-complete');\n",
              "    }\n",
              "    (() => {\n",
              "      let quickchartButtonEl =\n",
              "        document.querySelector('#df-12842cd5-025f-431b-b8c4-a700bf8ec5ea button');\n",
              "      quickchartButtonEl.style.display =\n",
              "        google.colab.kernel.accessAllowed ? 'block' : 'none';\n",
              "    })();\n",
              "  </script>\n",
              "</div>\n",
              "\n",
              "    </div>\n",
              "  </div>\n"
            ],
            "application/vnd.google.colaboratory.intrinsic+json": {
              "type": "dataframe",
              "summary": "{\n  \"name\": \"df\",\n  \"rows\": 20,\n  \"fields\": [\n    {\n      \"column\": \"title\",\n      \"properties\": {\n        \"dtype\": \"string\",\n        \"num_unique_values\": 20,\n        \"samples\": [\n          \"release of agfl home page this message announces the release of the world wide web home page of agfl ( affix grammars over a finite lattice ) . 1 . agfl the agfl formalism , developed at the university of nijmegen , the netherlands , is a formalism in which context free grammars can be described compactly . agfls are two level grammars : a first , context free level is augmented with features for expressing agreement between parts of speech . features are treated as types , and their values may range over the subsets of a given finite set , which explains the acronym affix grammars over a finite lattice . agfl grammars are transformed into a parser by the parser generator opt . the generated parser is a recursive backup parser which computes the values of the affixes on the fly . in this way , fast and efficient parsers can be generated . the formalism is quite simple and limited , and therefore easy to read and write . agfl comes with a grammar workbench gwb , supporting the development of grammars and the checking of their consistency . the agfl formalism does not require any special hardware . the parser generator opt runs on regular sparc - systems and ms-dos machines ( 386 or higher ) and is relatively small . for instance , the ms-dos version requires less than 1 mb harddisk space . 2 . agfl on the web agfl has now been made available to the ( computational ) linguistic community . we think it can be used by ( computational ) linguists who are in need of a simple grammar formalism with a fast parser generator , suitable for experimental purposes . therefore , we have made agfl available via ftp and , recently , via www . the agfl home page contains information about the agfl formalism like the agfl manual , documentation and papers , sample grammars and the latest developments . there is also the possibility to download the software and to register yourself as an agfl user . you are invited to take a look at the home page and to read the information or to download the software . please feel free to make use of agfl and its home page ; we look forward to hear about your experiences . we are currently planning an agfl workshop in june . the latest news about this workshop can also be found on the agfl home page . the url of the agfl home page is : http : / / www . cs . kun . nl / agfl / the address of the ftp - site is : ftp : / / hades . cs . kun . nl / pub / agfl / the organisation of the www page should be self-explanatory . the structure of the ftp - site is as follows : - readme - doc : this directory contains a number of relevant papers - pc386 : this directory contains software for ms-dos machines and an installation guide . - sun4 : this directory contains software for sparc - stations and an installation guide . any questions or remarks with respect to agfl or the agfl home page can be sent to : www-agfl @ cs . kun . nl . on behalf of the agfl team , erik oltmans department of computer science university of nijmegen the netherlands\",\n          \"just cents on the dollar : windows xp , office xp , norton system works , adobe , dreamweaver , corel - k 755 f 379 h 536 pw 51 at fraction of retail prices : adobe , dreamweaver , corel , windows xp , office xp , norton system works - o 258 gy 65 a must - see - http : / / swore . ebidkdeb . com / ? 2 h 47 ajy _ 6 dfxqyypluck no more - http : / / freedman . lmbgfaeh . com / autocracy ? 5 qda 7 sb 2 fac . n 5 bbarbour t 640 yj 78\",\n          \"jan 1 noms - - - - - - - - - - - - - - - - - - - - - - forwarded by tom acton / corp / enron on 12 / 27 / 2000 05 : 45 pm - - - - - - - - - - - - - - - - - - - - - - - - - - - royal _ b _ edmondson @ reliantenergy . com on 12 / 27 / 2000 04 : 00 : 02 pm to : tacton @ enron . com , lbellamy @ enron . com , janet . h . wallis @ enron . com cc : subject : jan 1 noms ( see attached file : hpl - jan . xls ) - hpl - jan . xls\"\n        ],\n        \"semantic_type\": \"\",\n        \"description\": \"\"\n      }\n    },\n    {\n      \"column\": \"label\",\n      \"properties\": {\n        \"dtype\": \"number\",\n        \"std\": 0,\n        \"min\": 0,\n        \"max\": 1,\n        \"num_unique_values\": 2,\n        \"samples\": [\n          1,\n          0\n        ],\n        \"semantic_type\": \"\",\n        \"description\": \"\"\n      }\n    }\n  ]\n}"
            }
          },
          "metadata": {},
          "execution_count": 5
        }
      ],
      "source": [
        "# create target\n",
        "df['label'] = (df['Email Type']==\"Phishing Email\").astype(int)\n",
        "df['title'] = df['Email Text']\n",
        "df = df[['title', 'label']]\n",
        "\n",
        "print(df.shape)\n",
        "df.sample(20)"
      ]
    },
    {
      "cell_type": "code",
      "execution_count": 6,
      "metadata": {
        "colab": {
          "base_uri": "https://localhost:8080/"
        },
        "id": "iv6-hwe3mceM",
        "outputId": "c5628ec0-50a6-4e06-84be-f0d59bfa9964"
      },
      "outputs": [
        {
          "output_type": "stream",
          "name": "stderr",
          "text": [
            "<ipython-input-6-17ea06fec25c>:2: SettingWithCopyWarning: \n",
            "A value is trying to be set on a copy of a slice from a DataFrame\n",
            "\n",
            "See the caveats in the documentation: https://pandas.pydata.org/pandas-docs/stable/user_guide/indexing.html#returning-a-view-versus-a-copy\n",
            "  df.dropna(inplace=True)\n"
          ]
        },
        {
          "output_type": "execute_result",
          "data": {
            "text/plain": [
              "0.37393089291823467"
            ]
          },
          "metadata": {},
          "execution_count": 6
        }
      ],
      "source": [
        "# drop null records\n",
        "df.dropna(inplace=True)\n",
        "df['label'].mean()"
      ]
    },
    {
      "cell_type": "code",
      "execution_count": 7,
      "metadata": {
        "colab": {
          "base_uri": "https://localhost:8080/"
        },
        "id": "UFAWoSW4mceN",
        "outputId": "227df21e-1a3c-4262-9bf8-4752f103659f"
      },
      "outputs": [
        {
          "output_type": "stream",
          "name": "stdout",
          "text": [
            "(21960, 2)\n"
          ]
        },
        {
          "output_type": "execute_result",
          "data": {
            "text/plain": [
              "0"
            ]
          },
          "metadata": {},
          "execution_count": 7
        }
      ],
      "source": [
        "# random oversampling of minority class\n",
        "y = df[['label']]\n",
        "df = df.drop(['label'], axis=1)\n",
        "ros = RandomOverSampler(random_state=83)\n",
        "df, y_resampled = ros.fit_resample(df, y)\n",
        "del y\n",
        "df['label'] = y_resampled\n",
        "print(df.shape)\n",
        "del y_resampled\n",
        "gc.collect()"
      ]
    },
    {
      "cell_type": "code",
      "execution_count": 8,
      "metadata": {
        "colab": {
          "base_uri": "https://localhost:8080/"
        },
        "id": "HC_NgWxxmceN",
        "outputId": "29a0bc82-5080-4e88-c786-5f9a8ffc3c14"
      },
      "outputs": [
        {
          "output_type": "execute_result",
          "data": {
            "text/plain": [
              "0"
            ]
          },
          "metadata": {},
          "execution_count": 8
        }
      ],
      "source": [
        "medium_dataset = Dataset.from_pandas(df)\n",
        "del df\n",
        "gc.collect()"
      ]
    },
    {
      "cell_type": "code",
      "execution_count": 9,
      "metadata": {
        "colab": {
          "base_uri": "https://localhost:8080/",
          "height": 104,
          "referenced_widgets": [
            "0875b6f125464388871f7de0f7cbdb83",
            "b54830f1f2dd43c484ce8ab135e8445e",
            "9b243669d7fe40a79dcf084b1bfa0c3d",
            "14b108abdb8b4f0d930f0189f7eefeb2",
            "8d96b66a8ddb46829e349c44d5bfe02a",
            "452b7268b6544fcbb014b19fb13b948f",
            "fa0626f5b7bb4829a8233a873109bccf",
            "f84dc3dfa00e49d1bd34f814bcf381c8",
            "a79ae3883844438ab55abf4c7af7fe7c",
            "d74fd0f68a0e41efa9c93cf7671d1eeb",
            "17231045456f4570aaf0fb53a6d82b95"
          ]
        },
        "id": "xw2tu3xmmceN",
        "outputId": "6e6d489c-6b32-402f-ee1b-35de2979aabb"
      },
      "outputs": [
        {
          "output_type": "stream",
          "name": "stderr",
          "text": [
            "/usr/local/lib/python3.10/dist-packages/transformers/tokenization_utils_base.py:1601: FutureWarning: `clean_up_tokenization_spaces` was not set. It will be set to `True` by default. This behavior will be depracted in transformers v4.45, and will be then set to `False` by default. For more details check this issue: https://github.com/huggingface/transformers/issues/31884\n",
            "  warnings.warn(\n"
          ]
        },
        {
          "output_type": "display_data",
          "data": {
            "text/plain": [
              "  0%|          | 0/22 [00:00<?, ?it/s]"
            ],
            "application/vnd.jupyter.widget-view+json": {
              "version_major": 2,
              "version_minor": 0,
              "model_id": "0875b6f125464388871f7de0f7cbdb83"
            }
          },
          "metadata": {}
        }
      ],
      "source": [
        "tokenizer = AutoTokenizer.from_pretrained(bert_model, use_fast=True, low_cpu_mem_usage=False)\n",
        "\n",
        "# simple function to batch tokenize utterances with truncation\n",
        "def preprocess_function(examples):\n",
        "    return tokenizer(examples[\"title\"], truncation=True)\n",
        "\n",
        "medium_dataset = medium_dataset.map(preprocess_function, batched=True)"
      ]
    },
    {
      "cell_type": "code",
      "execution_count": 10,
      "metadata": {
        "colab": {
          "base_uri": "https://localhost:8080/",
          "height": 81,
          "referenced_widgets": [
            "bbfb900c212142898861814bce5144b9",
            "b24f20b94900417caa4339314663994d",
            "8214daf957084544ba0ea1ba2d15b107",
            "1429dbba96304077b0d1e6b66717dfe4",
            "337fddb3f3674cbc90bbba7457c4eb03",
            "bdedc251d4374e3aa3737bb999b93b63",
            "9bdc3c2593dd41289ac3f065f3a79935",
            "03e958c0be384fc8bcbdb80b03ff0670",
            "901b08f5a233454faee29d350040b74b",
            "53fffed7e73e406f8474f7a2bba54647",
            "bed246873f254268b522914ef8c08de6",
            "0471a9b96d9146429cb48be45985ab1b",
            "a1e69ecfb519461e81e6b67803d171c6",
            "b52b49a5ae4c436fbeb3bb44e6f1a625",
            "2a565a52858d4ec187d7f8c15749cab4",
            "7ecf03524c13424e9defa54b6d5fe71e",
            "594337b8a4d84d33bb8aef7c2e78aede",
            "ef926a891d354127ab04dba8796639d5",
            "471c80f928944301b22b87210c319a0c",
            "104f9d1bc83c490a9f7081657ca5be88",
            "1ecc6e58c3bb471d9ef94b277cf80bf2",
            "aabe25d9782c4a61be1ac736d4ca7bd8"
          ]
        },
        "id": "_6mgyR2nmceN",
        "outputId": "e7a73490-10d8-4ccd-f8c4-9ab869124562"
      },
      "outputs": [
        {
          "output_type": "display_data",
          "data": {
            "text/plain": [
              "  0%|          | 0/16 [00:00<?, ?it/s]"
            ],
            "application/vnd.jupyter.widget-view+json": {
              "version_major": 2,
              "version_minor": 0,
              "model_id": "bbfb900c212142898861814bce5144b9"
            }
          },
          "metadata": {}
        },
        {
          "output_type": "display_data",
          "data": {
            "text/plain": [
              "  0%|          | 0/7 [00:00<?, ?it/s]"
            ],
            "application/vnd.jupyter.widget-view+json": {
              "version_major": 2,
              "version_minor": 0,
              "model_id": "0471a9b96d9146429cb48be45985ab1b"
            }
          },
          "metadata": {}
        }
      ],
      "source": [
        "# Dataset has a built in train test split method\n",
        "medium_dataset = medium_dataset.train_test_split(test_size=1-train_fraction)\n",
        "medium_dataset\n",
        "medium_dataset.remove_column_(\"title\") # remove the text column because we don't need to keep it in memory anymore"
      ]
    },
    {
      "cell_type": "code",
      "execution_count": 11,
      "metadata": {
        "id": "ED-KUYLrmceO"
      },
      "outputs": [],
      "source": [
        "# DataCollatorWithPadding creates batch of data. It also dynamically pads text to the\n",
        "#  length of the longest element in the batch, making them all the same length.\n",
        "#  It's possible to pad text in the tokenizer function with padding=True but dynamic padding is more efficient.\n",
        "data_collator = DataCollatorWithPadding(tokenizer=tokenizer)"
      ]
    },
    {
      "cell_type": "code",
      "source": [
        "tokenizer.decode(medium_dataset['train'][0]['input_ids'])"
      ],
      "metadata": {
        "colab": {
          "base_uri": "https://localhost:8080/",
          "height": 174
        },
        "id": "vf36BmG6KX3x",
        "outputId": "2ba0bea9-e374-43e1-ced8-0936ce8e7d3c"
      },
      "execution_count": 12,
      "outputs": [
        {
          "output_type": "execute_result",
          "data": {
            "text/plain": [
              "'[CLS] own your very own free casino and sportsbook! earning potential : $ 75 - $ 150, 000 + yearly p / t!! toll free : 1 - 866 - 522 - 8575 24hrs. international calls : 1 - 954 - 610 - 9386 ted koppel, nightline... \" not only is internet gambling already possible, already a modestly thriving industry, it promises to become huge \" we create your very own online casino and sportsbook absolutely free!! you receive the highest payouts! 25 - 50 %, with lifetime residuals! our marketing tools assist you in easily generating revenue. 100 people losing just $ 500 a month in your casino gives you $ 25, 000 a month!!! * if you are one of the first 25 people to call today, receive a free marketing package! * available in a limited number of area codes throughout the usa. * available on a first come first serve basis in your area. toll free 1 - 866 - 522 - 8575 24hrs. international calls : 954 - 610 - 9386 or email your name and phone number to : mailto : respond _ to _ dave @ excite. com? subject = more - info - $ $ $ u. s. news and world report on internet gambling : \" a gold rush in cyberspace. \" payout schedule : you receive 25 - 50 % of the monthly net cashout ( the cumulative loss of all players ). 1. internet use is continuing to explode! it is estimated that a million new people every day are joining the hundreds of millions already on - line. 2. legalized gaming has become the top revenue earner for all forms of entertainment in the u. s. today. your winnings $ 10, 000 = you earn $ 5, 000 $ 25, 000 = you earn $ 12, 500 $ 50, 000 = you earn $ 25, 000 $ 100, 000 = you earn $ 50, 000no technical experience necessary! we do all the work! our company is strategically aligned with industry leaders and ready to launch an aggressive marketing strategy. gq magazine \" the gambling urge is universal, mixing it with the ubiquity of the internet is a stroke of genius. \" internet gambling : this is the estimated gross revenue for internet gambling operations based on results of publicly traded companies and research by stock experts. 1997 $ 0. 30 billion 1998 $ 0. 65 billion 1999 $ 1. 17 billion 2000 $ 2. 89 billion 2001 $ [SEP]'"
            ],
            "application/vnd.google.colaboratory.intrinsic+json": {
              "type": "string"
            }
          },
          "metadata": {},
          "execution_count": 12
        }
      ]
    },
    {
      "cell_type": "markdown",
      "source": [
        "# Loading and training model"
      ],
      "metadata": {
        "id": "q0mwqof4KdZo"
      }
    },
    {
      "cell_type": "code",
      "execution_count": 13,
      "metadata": {
        "colab": {
          "base_uri": "https://localhost:8080/"
        },
        "id": "KlEkLt4WmceO",
        "outputId": "e6ce63af-a32d-48c1-b6b4-2819b85718cd"
      },
      "outputs": [
        {
          "output_type": "stream",
          "name": "stderr",
          "text": [
            "Some weights of BertForSequenceClassification were not initialized from the model checkpoint at google-bert/bert-base-uncased and are newly initialized: ['classifier.bias', 'classifier.weight']\n",
            "You should probably TRAIN this model on a down-stream task to be able to use it for predictions and inference.\n"
          ]
        }
      ],
      "source": [
        "model = AutoModelForSequenceClassification.from_pretrained(\n",
        "    bert_model, num_labels=2,\n",
        "    output_attentions = False, # Whether the model returns attentions weights.\n",
        "    output_hidden_states = False # Whether the model returns all hidden-states.\n",
        ")\n",
        "\n",
        "model.config.id2label = {0: 'SAFE EMAIL', 1: 'PHISHING EMAIL'}"
      ]
    },
    {
      "cell_type": "code",
      "source": [
        "# number of trainable parameters\n",
        "print(model.num_parameters(only_trainable=True)/1e6)"
      ],
      "metadata": {
        "colab": {
          "base_uri": "https://localhost:8080/"
        },
        "id": "xLcwrLygKmTQ",
        "outputId": "5180005c-c7b7-4094-cdbe-b87df0f78c69"
      },
      "execution_count": 14,
      "outputs": [
        {
          "output_type": "stream",
          "name": "stdout",
          "text": [
            "109.483778\n"
          ]
        }
      ]
    },
    {
      "cell_type": "code",
      "execution_count": 15,
      "metadata": {
        "id": "WlOA2grLmceO"
      },
      "outputs": [],
      "source": [
        "def compute_metrics(eval_pred):\n",
        "    logits, labels = eval_pred\n",
        "    predictions = np.argmax(logits, axis=-1)\n",
        "\n",
        "    # Compute accuracy\n",
        "    accuracy = accuracy_score(labels, predictions)\n",
        "\n",
        "    # Compute precision, recall, and F1 score\n",
        "    precision, recall, f1, _ = precision_recall_fscore_support(labels, predictions, average='weighted')\n",
        "\n",
        "    return {\n",
        "        'accuracy': accuracy,\n",
        "        'precision': precision,\n",
        "        'recall': recall,\n",
        "        'f1': f1,\n",
        "    }"
      ]
    },
    {
      "cell_type": "code",
      "execution_count": 16,
      "metadata": {
        "id": "cp8uZkBimceO"
      },
      "outputs": [],
      "source": [
        "training_args = TrainingArguments(\n",
        "    output_dir=output_dir,\n",
        "    logging_dir='./logs',\n",
        "    num_train_epochs=num_train_epochs,\n",
        "    per_device_train_batch_size=batch_size,\n",
        "    per_device_eval_batch_size=batch_size,\n",
        "    logging_strategy='steps',\n",
        "    logging_first_step=True,\n",
        "    load_best_model_at_end=True,\n",
        "    logging_steps=1,\n",
        "    eval_strategy='epoch',\n",
        "    warmup_steps=warmup_steps,\n",
        "    weight_decay=weight_decay,\n",
        "    eval_steps=1,\n",
        "    save_strategy='epoch',\n",
        "    report_to=\"mlflow\",  # log to mlflow\n",
        ")\n",
        "\n",
        "# Define the trainer, initiate the trainer class and check for available devices\n",
        "trainer = Trainer(\n",
        "    model=model,\n",
        "    args=training_args,\n",
        "    compute_metrics=compute_metrics,\n",
        "    train_dataset=medium_dataset['train'],\n",
        "    eval_dataset=medium_dataset['test'],\n",
        "    data_collator=data_collator\n",
        ")"
      ]
    },
    {
      "cell_type": "code",
      "execution_count": 17,
      "metadata": {
        "colab": {
          "base_uri": "https://localhost:8080/",
          "height": 193
        },
        "id": "4c7MAkI4mceP",
        "outputId": "7c79f9fd-6e67-4562-e04a-09ec65894342"
      },
      "outputs": [
        {
          "output_type": "display_data",
          "data": {
            "text/plain": [
              "<IPython.core.display.HTML object>"
            ],
            "text/html": [
              "\n",
              "    <div>\n",
              "      \n",
              "      <progress value='412' max='412' style='width:300px; height:20px; vertical-align: middle;'></progress>\n",
              "      [412/412 00:44]\n",
              "    </div>\n",
              "    "
            ]
          },
          "metadata": {}
        },
        {
          "output_type": "execute_result",
          "data": {
            "text/plain": [
              "{'eval_loss': 0.7386114597320557,\n",
              " 'eval_model_preparation_time': 0.0036,\n",
              " 'eval_accuracy': 0.4943086963120352,\n",
              " 'eval_precision': 0.5603593384737388,\n",
              " 'eval_recall': 0.4943086963120352,\n",
              " 'eval_f1': 0.3281721977905359,\n",
              " 'eval_runtime': 45.2325,\n",
              " 'eval_samples_per_second': 145.669,\n",
              " 'eval_steps_per_second': 9.108}"
            ]
          },
          "metadata": {},
          "execution_count": 17
        }
      ],
      "source": [
        "# Get initial metrics\n",
        "trainer.evaluate()"
      ]
    },
    {
      "cell_type": "code",
      "execution_count": 18,
      "metadata": {
        "colab": {
          "base_uri": "https://localhost:8080/",
          "height": 241
        },
        "id": "Hb5tbN7pmceP",
        "outputId": "0cbb4c35-1b28-4b0d-9bc4-be22c51c30f0"
      },
      "outputs": [
        {
          "output_type": "display_data",
          "data": {
            "text/plain": [
              "<IPython.core.display.HTML object>"
            ],
            "text/html": [
              "\n",
              "    <div>\n",
              "      \n",
              "      <progress value='2883' max='2883' style='width:300px; height:20px; vertical-align: middle;'></progress>\n",
              "      [2883/2883 17:46, Epoch 3/3]\n",
              "    </div>\n",
              "    <table border=\"1\" class=\"dataframe\">\n",
              "  <thead>\n",
              " <tr style=\"text-align: left;\">\n",
              "      <th>Epoch</th>\n",
              "      <th>Training Loss</th>\n",
              "      <th>Validation Loss</th>\n",
              "      <th>Model Preparation Time</th>\n",
              "      <th>Accuracy</th>\n",
              "      <th>Precision</th>\n",
              "      <th>Recall</th>\n",
              "      <th>F1</th>\n",
              "    </tr>\n",
              "  </thead>\n",
              "  <tbody>\n",
              "    <tr>\n",
              "      <td>1</td>\n",
              "      <td>0.001100</td>\n",
              "      <td>0.051638</td>\n",
              "      <td>0.003600</td>\n",
              "      <td>0.986493</td>\n",
              "      <td>0.986631</td>\n",
              "      <td>0.986493</td>\n",
              "      <td>0.986493</td>\n",
              "    </tr>\n",
              "    <tr>\n",
              "      <td>2</td>\n",
              "      <td>0.000100</td>\n",
              "      <td>0.049452</td>\n",
              "      <td>0.003600</td>\n",
              "      <td>0.991349</td>\n",
              "      <td>0.991356</td>\n",
              "      <td>0.991349</td>\n",
              "      <td>0.991349</td>\n",
              "    </tr>\n",
              "    <tr>\n",
              "      <td>3</td>\n",
              "      <td>0.000000</td>\n",
              "      <td>0.045463</td>\n",
              "      <td>0.003600</td>\n",
              "      <td>0.993474</td>\n",
              "      <td>0.993474</td>\n",
              "      <td>0.993474</td>\n",
              "      <td>0.993474</td>\n",
              "    </tr>\n",
              "  </tbody>\n",
              "</table><p>"
            ]
          },
          "metadata": {}
        },
        {
          "output_type": "display_data",
          "data": {
            "text/plain": [
              "<IPython.core.display.HTML object>"
            ],
            "text/html": [
              "\n",
              "    <div>\n",
              "      \n",
              "      <progress value='824' max='412' style='width:300px; height:20px; vertical-align: middle;'></progress>\n",
              "      [412/412 06:35]\n",
              "    </div>\n",
              "    "
            ]
          },
          "metadata": {}
        },
        {
          "output_type": "execute_result",
          "data": {
            "text/plain": [
              "TrainOutput(global_step=2883, training_loss=0.04335314220014997, metrics={'train_runtime': 1066.1725, 'train_samples_per_second': 43.251, 'train_steps_per_second': 2.704, 'total_flos': 1.21102207672752e+16, 'train_loss': 0.04335314220014997, 'epoch': 3.0})"
            ]
          },
          "metadata": {},
          "execution_count": 18
        }
      ],
      "source": [
        "trainer.train()"
      ]
    },
    {
      "cell_type": "code",
      "execution_count": 19,
      "metadata": {
        "colab": {
          "base_uri": "https://localhost:8080/",
          "height": 211
        },
        "id": "ArnQyws6mceP",
        "outputId": "3465ff7d-b815-40fd-bc85-8dc59e5a9886"
      },
      "outputs": [
        {
          "output_type": "display_data",
          "data": {
            "text/plain": [
              "<IPython.core.display.HTML object>"
            ],
            "text/html": [
              "\n",
              "    <div>\n",
              "      \n",
              "      <progress value='412' max='412' style='width:300px; height:20px; vertical-align: middle;'></progress>\n",
              "      [412/412 00:44]\n",
              "    </div>\n",
              "    "
            ]
          },
          "metadata": {}
        },
        {
          "output_type": "execute_result",
          "data": {
            "text/plain": [
              "{'eval_loss': 0.04546274617314339,\n",
              " 'eval_model_preparation_time': 0.0036,\n",
              " 'eval_accuracy': 0.9934739717711337,\n",
              " 'eval_precision': 0.9934740409966147,\n",
              " 'eval_recall': 0.9934739717711337,\n",
              " 'eval_f1': 0.9934739834975524,\n",
              " 'eval_runtime': 44.3649,\n",
              " 'eval_samples_per_second': 148.518,\n",
              " 'eval_steps_per_second': 9.287,\n",
              " 'epoch': 3.0}"
            ]
          },
          "metadata": {},
          "execution_count": 19
        }
      ],
      "source": [
        "trainer.evaluate()"
      ]
    },
    {
      "cell_type": "markdown",
      "source": [
        "# Visualisations"
      ],
      "metadata": {
        "id": "0L9It7RPLN6k"
      }
    },
    {
      "cell_type": "code",
      "source": [
        "log_history = trainer.state.log_history\n",
        "\n",
        "eval_loss = [log['eval_loss'] for log in log_history if 'eval_loss' in log]\n",
        "eval_accuracy = [log['eval_accuracy'] for log in log_history if 'eval_accuracy' in log]\n",
        "\n",
        "print(f\"Number of evaluation loss points: {len(eval_loss)}\")\n",
        "\n",
        "# Check how many evaluations happened\n",
        "epochs_eval = range(1, len(eval_loss) + 1)\n",
        "\n",
        "plt.plot(epochs_eval, eval_loss, 'ro-', label='Validation Loss (per epoch)')\n",
        "plt.title('Validation Loss over Epochs')\n",
        "plt.xlabel('Epochs')\n",
        "plt.ylabel('Loss')\n",
        "plt.legend()\n",
        "plt.show()\n",
        "\n",
        "plt.plot(epochs_eval, eval_accuracy, 'bo-', label='Validation Accuracy (per epoch)')\n",
        "plt.title('Validation Accuracy over Epochs')\n",
        "plt.xlabel('Epochs')\n",
        "plt.ylabel('Accuracy')\n",
        "plt.legend()\n",
        "plt.show()\n",
        "\n",
        "predictions = trainer.predict(medium_dataset['test'])\n",
        "predicted_labels = np.argmax(predictions.predictions, axis=-1)\n",
        "true_labels = medium_dataset['test']['label']\n",
        "\n",
        "class_names = ['Safe Email', 'Phishing Email']\n",
        "\n",
        "cm = confusion_matrix(true_labels, predicted_labels)\n",
        "disp = ConfusionMatrixDisplay(confusion_matrix=cm, display_labels=class_names)\n",
        "disp.plot(cmap=plt.cm.Blues)\n",
        "plt.title('Confusion Matrix')\n",
        "plt.show()"
      ],
      "metadata": {
        "colab": {
          "base_uri": "https://localhost:8080/",
          "height": 1000
        },
        "id": "oyI3Cl1W2NCK",
        "outputId": "5b09822f-1074-4f4a-9a4a-e6b4cf196b2d"
      },
      "execution_count": 20,
      "outputs": [
        {
          "output_type": "stream",
          "name": "stdout",
          "text": [
            "Number of evaluation loss points: 4\n"
          ]
        },
        {
          "output_type": "display_data",
          "data": {
            "text/plain": [
              "<Figure size 640x480 with 1 Axes>"
            ],
            "image/png": "[encoded data removed]"
          },
          "metadata": {}
        },
        {
          "output_type": "display_data",
          "data": {
            "text/plain": [
              "<Figure size 640x480 with 1 Axes>"
            ],
            "image/png": "[encoded data removed]"
          },
          "metadata": {}
        },
        {
          "output_type": "display_data",
          "data": {
            "text/plain": [
              "<IPython.core.display.HTML object>"
            ],
            "text/html": []
          },
          "metadata": {}
        },
        {
          "output_type": "display_data",
          "data": {
            "text/plain": [
              "<Figure size 640x480 with 2 Axes>"
            ],
            "image/png": "[encoded data removed]"
          },
          "metadata": {}
        }
      ]
    },
    {
      "cell_type": "markdown",
      "source": [
        "# Saving the model and checking its performance with a sample"
      ],
      "metadata": {
        "id": "t4dJHlyELfKr"
      }
    },
    {
      "cell_type": "code",
      "execution_count": 21,
      "metadata": {
        "colab": {
          "base_uri": "https://localhost:8080/"
        },
        "id": "iWfl5ZmBmceP",
        "outputId": "d4a8c88b-093c-4061-ab9b-7d203d0e2a29"
      },
      "outputs": [
        {
          "output_type": "execute_result",
          "data": {
            "text/plain": [
              "('./phishing-email-detection/vocab.txt',)"
            ]
          },
          "metadata": {},
          "execution_count": 21
        }
      ],
      "source": [
        "trainer.save_model()\n",
        "tokenizer.save_vocabulary(save_directory=output_dir)"
      ]
    },
    {
      "cell_type": "code",
      "execution_count": 22,
      "metadata": {
        "colab": {
          "base_uri": "https://localhost:8080/"
        },
        "id": "uo7-Uq1jmceQ",
        "outputId": "2320a483-1082-405a-92a6-252911257679"
      },
      "outputs": [
        {
          "output_type": "stream",
          "name": "stderr",
          "text": [
            "/usr/local/lib/python3.10/dist-packages/transformers/tokenization_utils_base.py:1601: FutureWarning: `clean_up_tokenization_spaces` was not set. It will be set to `True` by default. This behavior will be depracted in transformers v4.45, and will be then set to `False` by default. For more details check this issue: https://github.com/huggingface/transformers/issues/31884\n",
            "  warnings.warn(\n",
            "Hardware accelerator e.g. GPU is available in the environment, but no `device` argument is passed to the `Pipeline` object. Model will be on CPU.\n"
          ]
        },
        {
          "output_type": "execute_result",
          "data": {
            "text/plain": [
              "[{'label': 'SAFE EMAIL', 'score': 0.9997156262397766},\n",
              " {'label': 'PHISHING EMAIL', 'score': 0.00028437585569918156}]"
            ]
          },
          "metadata": {},
          "execution_count": 22
        }
      ],
      "source": [
        "# make a classification pipeline\n",
        "pipe = pipeline(\"text-classification\", output_dir, tokenizer=bert_model)\n",
        "sample_title = '''Why do employees leave companies — analysis of IBM employee data'''\n",
        "pipe(sample_title, top_k=None)"
      ]
    },
    {
      "cell_type": "code",
      "source": [
        "# use the upper-case version\n",
        "sample_title2 = sample_title.upper()\n",
        "pipe(sample_title2, top_k=None)"
      ],
      "metadata": {
        "colab": {
          "base_uri": "https://localhost:8080/"
        },
        "id": "Vefgd16AMinG",
        "outputId": "ad813517-22ed-4355-d8f8-1a7ebde2020b"
      },
      "execution_count": 23,
      "outputs": [
        {
          "output_type": "execute_result",
          "data": {
            "text/plain": [
              "[{'label': 'SAFE EMAIL', 'score': 0.9997156262397766},\n",
              " {'label': 'PHISHING EMAIL', 'score': 0.00028437585569918156}]"
            ]
          },
          "metadata": {},
          "execution_count": 23
        }
      ]
    },
    {
      "cell_type": "code",
      "source": [
        "# more refined version\n",
        "sample_title3 = '''Why do employees leave companies?'''\n",
        "pipe(sample_title3, top_k=None)"
      ],
      "metadata": {
        "colab": {
          "base_uri": "https://localhost:8080/"
        },
        "id": "EIfOOAXKMngV",
        "outputId": "51605542-4a0a-485f-ee05-b4e1c02f50e1"
      },
      "execution_count": 24,
      "outputs": [
        {
          "output_type": "execute_result",
          "data": {
            "text/plain": [
              "[{'label': 'SAFE EMAIL', 'score': 0.9953664541244507},\n",
              " {'label': 'PHISHING EMAIL', 'score': 0.004633587319403887}]"
            ]
          },
          "metadata": {},
          "execution_count": 24
        }
      ]
    },
    {
      "cell_type": "code",
      "execution_count": 25,
      "metadata": {
        "colab": {
          "base_uri": "https://localhost:8080/"
        },
        "id": "6YEGLddISBAW",
        "outputId": "3af1621d-2c4e-4a87-9b18-ed714fd9e5ac"
      },
      "outputs": [
        {
          "output_type": "stream",
          "name": "stderr",
          "text": [
            "Hardware accelerator e.g. GPU is available in the environment, but no `device` argument is passed to the `Pipeline` object. Model will be on CPU.\n"
          ]
        },
        {
          "name": "stdout",
          "output_type": "stream",
          "text": [
            "Enter the email address:test@example.com\n",
            "Enter the subject:Claim your free gift card!\n",
            "Enter the email content:Click NOW on the link below to claim your FREE gift card!\n",
            "Classification results:  [{'label': 'PHISHING EMAIL', 'score': 0.9999234676361084}, {'label': 'SAFE EMAIL', 'score': 7.653208012925461e-05}]\n",
            "Phishing email detected! \n",
            "Generated response:\n",
            "\n",
            "Subject: Re: Inquiry Regarding Amazing Gift Card Offer! \n",
            "\n",
            "Hello, \n",
            "\n",
            "I am thrilled to receive your email with such exciting news! Who wouldn't love a free gift card? Before I proceed, I would like to learn more about this astounding deal for personal clarification. \n",
            "\n",
            "1. Could you provide me more details about the company you are representing? A brief description or a website link would be wonderful. \n",
            "2. Also, I'm interested to understand more about the origin and funding of these free gift cards. This will help me share this great news with more friends and family. \n",
            "3. Lastly, could you enlighten me on the process and timeline to claim this gift? \n",
            "\n",
            "I hope my questions won't inconvenience you. I am only trying to rightfully appreciate all the great work that your team has been doing, and eagerly looking forward to availing this interesting offer. \n",
            "\n",
            "Expectantly awaiting your response. \n",
            "\n",
            "Best, \n",
            "[Your Name]\n",
            "\n",
            "Phishing email information saved to CSV.\n",
            "Do you want to process another email? (yes/no): no\n"
          ]
        }
      ],
      "source": [
        "# Initialize the OpenAI client\n",
        "client = OpenAI(api_key=\"API_KEY\")\n",
        "\n",
        "# Function to validate email address format\n",
        "def is_valid_email(email):\n",
        "    return '@' in email and '.' in email\n",
        "\n",
        "# Function to classify and extract email\n",
        "def classify_and_extract_email(text, pipe, threshold=0.5):\n",
        "    results = pipe(text, top_k=None)\n",
        "    print(\"Classification results: \", results)\n",
        "    for result in results:\n",
        "        if result['label'] == 'PHISHING EMAIL' and result['score'] >= threshold:\n",
        "            return result\n",
        "    return results\n",
        "\n",
        "# Function to generate a counter-response to phishing email using ChatGPT\n",
        "def generate_counter_response(phishing_email_content):\n",
        "    prompt = (\n",
        "        \"You are an expert in cybersecurity and email security.\"\n",
        "        \"Here is a phishing email:\\n\\n\"\n",
        "        f\"{phishing_email_content}\\n\\n\"\n",
        "        \"Craft a response to this phishing email that engages the sender.\"\n",
        "        \"Your goal is to gather more information about the sender or their intentions.\"\n",
        "        \"Ensure the response appears interested in the offer, but subtly aims to expose or trap the sender.\"\n",
        "        \"Avoid directly revealing that you are aware of the phishing attempt.\"\n",
        "        \"Make the response convincing and professional, encouraging further interaction that could reveal more about the sender’s motives.\"\n",
        "    )\n",
        "\n",
        "    response = client.chat.completions.create(\n",
        "        model=\"gpt-4\",\n",
        "        messages=[\n",
        "            {\"role\": \"system\", \"content\": \"You are a helpful assistant.\"},\n",
        "            {\"role\": \"user\", \"content\": prompt}\n",
        "        ],\n",
        "    )\n",
        "    return print(response.choices[0].message.content)\n",
        "\n",
        "# Function to save the phishing email to a CSV file\n",
        "def save_to_csv(email, subject, content):\n",
        "    output_file = Path(\"phishing_emails.csv\")\n",
        "\n",
        "    # Check if the file exists to write header only for the first time\n",
        "    file_exists = output_file.exists()\n",
        "\n",
        "    with open(output_file, mode=\"a\", newline=\"\") as file:\n",
        "        writer = csv.writer(file)\n",
        "        if not file_exists:\n",
        "            writer.writerow([\"Email Address\", \"Subject\", \"Email Content\"])  # Write header if the file is created first time\n",
        "        writer.writerow([email, subject, content])\n",
        "\n",
        "# Main program function to get email details and classify it\n",
        "def main():\n",
        "  while True:\n",
        "    # Input email details from the user\n",
        "    email_address = input(\"Enter the email address:\")\n",
        "    if not is_valid_email(email_address):\n",
        "      print(\"Invalid email address! Please enter a valid email.\")\n",
        "      continue\n",
        "\n",
        "    subject = input(\"Enter the subject:\")\n",
        "    email_content = input(\"Enter the email content:\")\n",
        "\n",
        "    if not email_address or not subject or not email_content:\n",
        "        print(\"All fields must be filled!\")\n",
        "        continue\n",
        "\n",
        "    # Classify the email content\n",
        "    result = classify_and_extract_email(email_content, classification_pipe)\n",
        "\n",
        "    if result['label'] == 'PHISHING EMAIL':\n",
        "        # Generate a counter response using ChatGPT\n",
        "        print(f\"Phishing email detected! \\nGenerated response:\\n\")\n",
        "        response = generate_counter_response(email_content)\n",
        "\n",
        "        # Save to CSV\n",
        "        save_to_csv(email_address, subject, email_content)\n",
        "        print(\"Phishing email information saved to CSV.\")\n",
        "\n",
        "    else:\n",
        "      print(\"The email is classified as safe.\")\n",
        "\n",
        "    # Option to process another email or exit\n",
        "    another = input(\"Do you want to process another email? (yes/no): \").lower()\n",
        "    if another != 'yes':\n",
        "      break\n",
        "\n",
        "# Directory where the model and tokenizer are saved\n",
        "output_dir = \"phishing-email-detection\"\n",
        "\n",
        "# Load the model and tokenizer\n",
        "tokenizer = AutoTokenizer.from_pretrained(output_dir)\n",
        "model = AutoModelForSequenceClassification.from_pretrained(output_dir)\n",
        "\n",
        "# Load the text-classification pipeline\n",
        "classification_pipe = pipeline(\"text-classification\", model=model, tokenizer=tokenizer)\n",
        "\n",
        "# Run the main program\n",
        "if __name__ == \"__main__\":\n",
        "    main()"
      ]
    }
  ],
  "metadata": {
    "accelerator": "GPU",
    "colab": {
      "gpuType": "A100",
      "machine_shape": "hm",
      "provenance": []
    },
    "kaggle": {
      "accelerator": "nvidiaTeslaT4",
      "dataSources": [],
      "dockerImageVersionId": 30762,
      "isGpuEnabled": true,
      "isInternetEnabled": true,
      "language": "python",
      "sourceType": "notebook"
    },
    "kernelspec": {
      "display_name": "Python 3",
      "name": "python3"
    },
    "language_info": {
      "codemirror_mode": {
        "name": "ipython",
        "version": 3
      },
      "file_extension": ".py",
      "mimetype": "text/x-python",
      "name": "python",
      "nbconvert_exporter": "python",
      "pygments_lexer": "ipython3",
      "version": "3.11.5"
    },
    "widgets": {
      "application/vnd.jupyter.widget-state+json": {
        "0875b6f125464388871f7de0f7cbdb83": {
          "model_module": "@jupyter-widgets/controls",
          "model_name": "HBoxModel",
          "model_module_version": "1.5.0",
          "state": {
            "_dom_classes": [],
            "_model_module": "@jupyter-widgets/controls",
            "_model_module_version": "1.5.0",
            "_model_name": "HBoxModel",
            "_view_count": null,
            "_view_module": "@jupyter-widgets/controls",
            "_view_module_version": "1.5.0",
            "_view_name": "HBoxView",
            "box_style": "",
            "children": [
              "IPY_MODEL_b54830f1f2dd43c484ce8ab135e8445e",
              "IPY_MODEL_9b243669d7fe40a79dcf084b1bfa0c3d",
              "IPY_MODEL_14b108abdb8b4f0d930f0189f7eefeb2"
            ],
            "layout": "IPY_MODEL_8d96b66a8ddb46829e349c44d5bfe02a"
          }
        },
        "b54830f1f2dd43c484ce8ab135e8445e": {
          "model_module": "@jupyter-widgets/controls",
          "model_name": "HTMLModel",
          "model_module_version": "1.5.0",
          "state": {
            "_dom_classes": [],
            "_model_module": "@jupyter-widgets/controls",
            "_model_module_version": "1.5.0",
            "_model_name": "HTMLModel",
            "_view_count": null,
            "_view_module": "@jupyter-widgets/controls",
            "_view_module_version": "1.5.0",
            "_view_name": "HTMLView",
            "description": "",
            "description_tooltip": null,
            "layout": "IPY_MODEL_452b7268b6544fcbb014b19fb13b948f",
            "placeholder": "​",
            "style": "IPY_MODEL_fa0626f5b7bb4829a8233a873109bccf",
            "value": "100%"
          }
        },
        "9b243669d7fe40a79dcf084b1bfa0c3d": {
          "model_module": "@jupyter-widgets/controls",
          "model_name": "FloatProgressModel",
          "model_module_version": "1.5.0",
          "state": {
            "_dom_classes": [],
            "_model_module": "@jupyter-widgets/controls",
            "_model_module_version": "1.5.0",
            "_model_name": "FloatProgressModel",
            "_view_count": null,
            "_view_module": "@jupyter-widgets/controls",
            "_view_module_version": "1.5.0",
            "_view_name": "ProgressView",
            "bar_style": "success",
            "description": "",
            "description_tooltip": null,
            "layout": "IPY_MODEL_f84dc3dfa00e49d1bd34f814bcf381c8",
            "max": 22,
            "min": 0,
            "orientation": "horizontal",
            "style": "IPY_MODEL_a79ae3883844438ab55abf4c7af7fe7c",
            "value": 22
          }
        },
        "14b108abdb8b4f0d930f0189f7eefeb2": {
          "model_module": "@jupyter-widgets/controls",
          "model_name": "HTMLModel",
          "model_module_version": "1.5.0",
          "state": {
            "_dom_classes": [],
            "_model_module": "@jupyter-widgets/controls",
            "_model_module_version": "1.5.0",
            "_model_name": "HTMLModel",
            "_view_count": null,
            "_view_module": "@jupyter-widgets/controls",
            "_view_module_version": "1.5.0",
            "_view_name": "HTMLView",
            "description": "",
            "description_tooltip": null,
            "layout": "IPY_MODEL_d74fd0f68a0e41efa9c93cf7671d1eeb",
            "placeholder": "​",
            "style": "IPY_MODEL_17231045456f4570aaf0fb53a6d82b95",
            "value": " 22/22 [00:42&lt;00:00,  1.06s/it]"
          }
        },
        "8d96b66a8ddb46829e349c44d5bfe02a": {
          "model_module": "@jupyter-widgets/base",
          "model_name": "LayoutModel",
          "model_module_version": "1.2.0",
          "state": {
            "_model_module": "@jupyter-widgets/base",
            "_model_module_version": "1.2.0",
            "_model_name": "LayoutModel",
            "_view_count": null,
            "_view_module": "@jupyter-widgets/base",
            "_view_module_version": "1.2.0",
            "_view_name": "LayoutView",
            "align_content": null,
            "align_items": null,
            "align_self": null,
            "border": null,
            "bottom": null,
            "display": null,
            "flex": null,
            "flex_flow": null,
            "grid_area": null,
            "grid_auto_columns": null,
            "grid_auto_flow": null,
            "grid_auto_rows": null,
            "grid_column": null,
            "grid_gap": null,
            "grid_row": null,
            "grid_template_areas": null,
            "grid_template_columns": null,
            "grid_template_rows": null,
            "height": null,
            "justify_content": null,
            "justify_items": null,
            "left": null,
            "margin": null,
            "max_height": null,
            "max_width": null,
            "min_height": null,
            "min_width": null,
            "object_fit": null,
            "object_position": null,
            "order": null,
            "overflow": null,
            "overflow_x": null,
            "overflow_y": null,
            "padding": null,
            "right": null,
            "top": null,
            "visibility": null,
            "width": null
          }
        },
        "452b7268b6544fcbb014b19fb13b948f": {
          "model_module": "@jupyter-widgets/base",
          "model_name": "LayoutModel",
          "model_module_version": "1.2.0",
          "state": {
            "_model_module": "@jupyter-widgets/base",
            "_model_module_version": "1.2.0",
            "_model_name": "LayoutModel",
            "_view_count": null,
            "_view_module": "@jupyter-widgets/base",
            "_view_module_version": "1.2.0",
            "_view_name": "LayoutView",
            "align_content": null,
            "align_items": null,
            "align_self": null,
            "border": null,
            "bottom": null,
            "display": null,
            "flex": null,
            "flex_flow": null,
            "grid_area": null,
            "grid_auto_columns": null,
            "grid_auto_flow": null,
            "grid_auto_rows": null,
            "grid_column": null,
            "grid_gap": null,
            "grid_row": null,
            "grid_template_areas": null,
            "grid_template_columns": null,
            "grid_template_rows": null,
            "height": null,
            "justify_content": null,
            "justify_items": null,
            "left": null,
            "margin": null,
            "max_height": null,
            "max_width": null,
            "min_height": null,
            "min_width": null,
            "object_fit": null,
            "object_position": null,
            "order": null,
            "overflow": null,
            "overflow_x": null,
            "overflow_y": null,
            "padding": null,
            "right": null,
            "top": null,
            "visibility": null,
            "width": null
          }
        },
        "fa0626f5b7bb4829a8233a873109bccf": {
          "model_module": "@jupyter-widgets/controls",
          "model_name": "DescriptionStyleModel",
          "model_module_version": "1.5.0",
          "state": {
            "_model_module": "@jupyter-widgets/controls",
            "_model_module_version": "1.5.0",
            "_model_name": "DescriptionStyleModel",
            "_view_count": null,
            "_view_module": "@jupyter-widgets/base",
            "_view_module_version": "1.2.0",
            "_view_name": "StyleView",
            "description_width": ""
          }
        },
        "f84dc3dfa00e49d1bd34f814bcf381c8": {
          "model_module": "@jupyter-widgets/base",
          "model_name": "LayoutModel",
          "model_module_version": "1.2.0",
          "state": {
            "_model_module": "@jupyter-widgets/base",
            "_model_module_version": "1.2.0",
            "_model_name": "LayoutModel",
            "_view_count": null,
            "_view_module": "@jupyter-widgets/base",
            "_view_module_version": "1.2.0",
            "_view_name": "LayoutView",
            "align_content": null,
            "align_items": null,
            "align_self": null,
            "border": null,
            "bottom": null,
            "display": null,
            "flex": null,
            "flex_flow": null,
            "grid_area": null,
            "grid_auto_columns": null,
            "grid_auto_flow": null,
            "grid_auto_rows": null,
            "grid_column": null,
            "grid_gap": null,
            "grid_row": null,
            "grid_template_areas": null,
            "grid_template_columns": null,
            "grid_template_rows": null,
            "height": null,
            "justify_content": null,
            "justify_items": null,
            "left": null,
            "margin": null,
            "max_height": null,
            "max_width": null,
            "min_height": null,
            "min_width": null,
            "object_fit": null,
            "object_position": null,
            "order": null,
            "overflow": null,
            "overflow_x": null,
            "overflow_y": null,
            "padding": null,
            "right": null,
            "top": null,
            "visibility": null,
            "width": null
          }
        },
        "a79ae3883844438ab55abf4c7af7fe7c": {
          "model_module": "@jupyter-widgets/controls",
          "model_name": "ProgressStyleModel",
          "model_module_version": "1.5.0",
          "state": {
            "_model_module": "@jupyter-widgets/controls",
            "_model_module_version": "1.5.0",
            "_model_name": "ProgressStyleModel",
            "_view_count": null,
            "_view_module": "@jupyter-widgets/base",
            "_view_module_version": "1.2.0",
            "_view_name": "StyleView",
            "bar_color": null,
            "description_width": ""
          }
        },
        "d74fd0f68a0e41efa9c93cf7671d1eeb": {
          "model_module": "@jupyter-widgets/base",
          "model_name": "LayoutModel",
          "model_module_version": "1.2.0",
          "state": {
            "_model_module": "@jupyter-widgets/base",
            "_model_module_version": "1.2.0",
            "_model_name": "LayoutModel",
            "_view_count": null,
            "_view_module": "@jupyter-widgets/base",
            "_view_module_version": "1.2.0",
            "_view_name": "LayoutView",
            "align_content": null,
            "align_items": null,
            "align_self": null,
            "border": null,
            "bottom": null,
            "display": null,
            "flex": null,
            "flex_flow": null,
            "grid_area": null,
            "grid_auto_columns": null,
            "grid_auto_flow": null,
            "grid_auto_rows": null,
            "grid_column": null,
            "grid_gap": null,
            "grid_row": null,
            "grid_template_areas": null,
            "grid_template_columns": null,
            "grid_template_rows": null,
            "height": null,
            "justify_content": null,
            "justify_items": null,
            "left": null,
            "margin": null,
            "max_height": null,
            "max_width": null,
            "min_height": null,
            "min_width": null,
            "object_fit": null,
            "object_position": null,
            "order": null,
            "overflow": null,
            "overflow_x": null,
            "overflow_y": null,
            "padding": null,
            "right": null,
            "top": null,
            "visibility": null,
            "width": null
          }
        },
        "17231045456f4570aaf0fb53a6d82b95": {
          "model_module": "@jupyter-widgets/controls",
          "model_name": "DescriptionStyleModel",
          "model_module_version": "1.5.0",
          "state": {
            "_model_module": "@jupyter-widgets/controls",
            "_model_module_version": "1.5.0",
            "_model_name": "DescriptionStyleModel",
            "_view_count": null,
            "_view_module": "@jupyter-widgets/base",
            "_view_module_version": "1.2.0",
            "_view_name": "StyleView",
            "description_width": ""
          }
        },
        "bbfb900c212142898861814bce5144b9": {
          "model_module": "@jupyter-widgets/controls",
          "model_name": "HBoxModel",
          "model_module_version": "1.5.0",
          "state": {
            "_dom_classes": [],
            "_model_module": "@jupyter-widgets/controls",
            "_model_module_version": "1.5.0",
            "_model_name": "HBoxModel",
            "_view_count": null,
            "_view_module": "@jupyter-widgets/controls",
            "_view_module_version": "1.5.0",
            "_view_name": "HBoxView",
            "box_style": "",
            "children": [
              "IPY_MODEL_b24f20b94900417caa4339314663994d",
              "IPY_MODEL_8214daf957084544ba0ea1ba2d15b107",
              "IPY_MODEL_1429dbba96304077b0d1e6b66717dfe4"
            ],
            "layout": "IPY_MODEL_337fddb3f3674cbc90bbba7457c4eb03"
          }
        },
        "b24f20b94900417caa4339314663994d": {
          "model_module": "@jupyter-widgets/controls",
          "model_name": "HTMLModel",
          "model_module_version": "1.5.0",
          "state": {
            "_dom_classes": [],
            "_model_module": "@jupyter-widgets/controls",
            "_model_module_version": "1.5.0",
            "_model_name": "HTMLModel",
            "_view_count": null,
            "_view_module": "@jupyter-widgets/controls",
            "_view_module_version": "1.5.0",
            "_view_name": "HTMLView",
            "description": "",
            "description_tooltip": null,
            "layout": "IPY_MODEL_bdedc251d4374e3aa3737bb999b93b63",
            "placeholder": "​",
            "style": "IPY_MODEL_9bdc3c2593dd41289ac3f065f3a79935",
            "value": "100%"
          }
        },
        "8214daf957084544ba0ea1ba2d15b107": {
          "model_module": "@jupyter-widgets/controls",
          "model_name": "FloatProgressModel",
          "model_module_version": "1.5.0",
          "state": {
            "_dom_classes": [],
            "_model_module": "@jupyter-widgets/controls",
            "_model_module_version": "1.5.0",
            "_model_name": "FloatProgressModel",
            "_view_count": null,
            "_view_module": "@jupyter-widgets/controls",
            "_view_module_version": "1.5.0",
            "_view_name": "ProgressView",
            "bar_style": "success",
            "description": "",
            "description_tooltip": null,
            "layout": "IPY_MODEL_03e958c0be384fc8bcbdb80b03ff0670",
            "max": 16,
            "min": 0,
            "orientation": "horizontal",
            "style": "IPY_MODEL_901b08f5a233454faee29d350040b74b",
            "value": 16
          }
        },
        "1429dbba96304077b0d1e6b66717dfe4": {
          "model_module": "@jupyter-widgets/controls",
          "model_name": "HTMLModel",
          "model_module_version": "1.5.0",
          "state": {
            "_dom_classes": [],
            "_model_module": "@jupyter-widgets/controls",
            "_model_module_version": "1.5.0",
            "_model_name": "HTMLModel",
            "_view_count": null,
            "_view_module": "@jupyter-widgets/controls",
            "_view_module_version": "1.5.0",
            "_view_name": "HTMLView",
            "description": "",
            "description_tooltip": null,
            "layout": "IPY_MODEL_53fffed7e73e406f8474f7a2bba54647",
            "placeholder": "​",
            "style": "IPY_MODEL_bed246873f254268b522914ef8c08de6",
            "value": " 16/16 [00:16&lt;00:00,  1.17it/s]"
          }
        },
        "337fddb3f3674cbc90bbba7457c4eb03": {
          "model_module": "@jupyter-widgets/base",
          "model_name": "LayoutModel",
          "model_module_version": "1.2.0",
          "state": {
            "_model_module": "@jupyter-widgets/base",
            "_model_module_version": "1.2.0",
            "_model_name": "LayoutModel",
            "_view_count": null,
            "_view_module": "@jupyter-widgets/base",
            "_view_module_version": "1.2.0",
            "_view_name": "LayoutView",
            "align_content": null,
            "align_items": null,
            "align_self": null,
            "border": null,
            "bottom": null,
            "display": null,
            "flex": null,
            "flex_flow": null,
            "grid_area": null,
            "grid_auto_columns": null,
            "grid_auto_flow": null,
            "grid_auto_rows": null,
            "grid_column": null,
            "grid_gap": null,
            "grid_row": null,
            "grid_template_areas": null,
            "grid_template_columns": null,
            "grid_template_rows": null,
            "height": null,
            "justify_content": null,
            "justify_items": null,
            "left": null,
            "margin": null,
            "max_height": null,
            "max_width": null,
            "min_height": null,
            "min_width": null,
            "object_fit": null,
            "object_position": null,
            "order": null,
            "overflow": null,
            "overflow_x": null,
            "overflow_y": null,
            "padding": null,
            "right": null,
            "top": null,
            "visibility": null,
            "width": null
          }
        },
        "bdedc251d4374e3aa3737bb999b93b63": {
          "model_module": "@jupyter-widgets/base",
          "model_name": "LayoutModel",
          "model_module_version": "1.2.0",
          "state": {
            "_model_module": "@jupyter-widgets/base",
            "_model_module_version": "1.2.0",
            "_model_name": "LayoutModel",
            "_view_count": null,
            "_view_module": "@jupyter-widgets/base",
            "_view_module_version": "1.2.0",
            "_view_name": "LayoutView",
            "align_content": null,
            "align_items": null,
            "align_self": null,
            "border": null,
            "bottom": null,
            "display": null,
            "flex": null,
            "flex_flow": null,
            "grid_area": null,
            "grid_auto_columns": null,
            "grid_auto_flow": null,
            "grid_auto_rows": null,
            "grid_column": null,
            "grid_gap": null,
            "grid_row": null,
            "grid_template_areas": null,
            "grid_template_columns": null,
            "grid_template_rows": null,
            "height": null,
            "justify_content": null,
            "justify_items": null,
            "left": null,
            "margin": null,
            "max_height": null,
            "max_width": null,
            "min_height": null,
            "min_width": null,
            "object_fit": null,
            "object_position": null,
            "order": null,
            "overflow": null,
            "overflow_x": null,
            "overflow_y": null,
            "padding": null,
            "right": null,
            "top": null,
            "visibility": null,
            "width": null
          }
        },
        "9bdc3c2593dd41289ac3f065f3a79935": {
          "model_module": "@jupyter-widgets/controls",
          "model_name": "DescriptionStyleModel",
          "model_module_version": "1.5.0",
          "state": {
            "_model_module": "@jupyter-widgets/controls",
            "_model_module_version": "1.5.0",
            "_model_name": "DescriptionStyleModel",
            "_view_count": null,
            "_view_module": "@jupyter-widgets/base",
            "_view_module_version": "1.2.0",
            "_view_name": "StyleView",
            "description_width": ""
          }
        },
        "03e958c0be384fc8bcbdb80b03ff0670": {
          "model_module": "@jupyter-widgets/base",
          "model_name": "LayoutModel",
          "model_module_version": "1.2.0",
          "state": {
            "_model_module": "@jupyter-widgets/base",
            "_model_module_version": "1.2.0",
            "_model_name": "LayoutModel",
            "_view_count": null,
            "_view_module": "@jupyter-widgets/base",
            "_view_module_version": "1.2.0",
            "_view_name": "LayoutView",
            "align_content": null,
            "align_items": null,
            "align_self": null,
            "border": null,
            "bottom": null,
            "display": null,
            "flex": null,
            "flex_flow": null,
            "grid_area": null,
            "grid_auto_columns": null,
            "grid_auto_flow": null,
            "grid_auto_rows": null,
            "grid_column": null,
            "grid_gap": null,
            "grid_row": null,
            "grid_template_areas": null,
            "grid_template_columns": null,
            "grid_template_rows": null,
            "height": null,
            "justify_content": null,
            "justify_items": null,
            "left": null,
            "margin": null,
            "max_height": null,
            "max_width": null,
            "min_height": null,
            "min_width": null,
            "object_fit": null,
            "object_position": null,
            "order": null,
            "overflow": null,
            "overflow_x": null,
            "overflow_y": null,
            "padding": null,
            "right": null,
            "top": null,
            "visibility": null,
            "width": null
          }
        },
        "901b08f5a233454faee29d350040b74b": {
          "model_module": "@jupyter-widgets/controls",
          "model_name": "ProgressStyleModel",
          "model_module_version": "1.5.0",
          "state": {
            "_model_module": "@jupyter-widgets/controls",
            "_model_module_version": "1.5.0",
            "_model_name": "ProgressStyleModel",
            "_view_count": null,
            "_view_module": "@jupyter-widgets/base",
            "_view_module_version": "1.2.0",
            "_view_name": "StyleView",
            "bar_color": null,
            "description_width": ""
          }
        },
        "53fffed7e73e406f8474f7a2bba54647": {
          "model_module": "@jupyter-widgets/base",
          "model_name": "LayoutModel",
          "model_module_version": "1.2.0",
          "state": {
            "_model_module": "@jupyter-widgets/base",
            "_model_module_version": "1.2.0",
            "_model_name": "LayoutModel",
            "_view_count": null,
            "_view_module": "@jupyter-widgets/base",
            "_view_module_version": "1.2.0",
            "_view_name": "LayoutView",
            "align_content": null,
            "align_items": null,
            "align_self": null,
            "border": null,
            "bottom": null,
            "display": null,
            "flex": null,
            "flex_flow": null,
            "grid_area": null,
            "grid_auto_columns": null,
            "grid_auto_flow": null,
            "grid_auto_rows": null,
            "grid_column": null,
            "grid_gap": null,
            "grid_row": null,
            "grid_template_areas": null,
            "grid_template_columns": null,
            "grid_template_rows": null,
            "height": null,
            "justify_content": null,
            "justify_items": null,
            "left": null,
            "margin": null,
            "max_height": null,
            "max_width": null,
            "min_height": null,
            "min_width": null,
            "object_fit": null,
            "object_position": null,
            "order": null,
            "overflow": null,
            "overflow_x": null,
            "overflow_y": null,
            "padding": null,
            "right": null,
            "top": null,
            "visibility": null,
            "width": null
          }
        },
        "bed246873f254268b522914ef8c08de6": {
          "model_module": "@jupyter-widgets/controls",
          "model_name": "DescriptionStyleModel",
          "model_module_version": "1.5.0",
          "state": {
            "_model_module": "@jupyter-widgets/controls",
            "_model_module_version": "1.5.0",
            "_model_name": "DescriptionStyleModel",
            "_view_count": null,
            "_view_module": "@jupyter-widgets/base",
            "_view_module_version": "1.2.0",
            "_view_name": "StyleView",
            "description_width": ""
          }
        },
        "0471a9b96d9146429cb48be45985ab1b": {
          "model_module": "@jupyter-widgets/controls",
          "model_name": "HBoxModel",
          "model_module_version": "1.5.0",
          "state": {
            "_dom_classes": [],
            "_model_module": "@jupyter-widgets/controls",
            "_model_module_version": "1.5.0",
            "_model_name": "HBoxModel",
            "_view_count": null,
            "_view_module": "@jupyter-widgets/controls",
            "_view_module_version": "1.5.0",
            "_view_name": "HBoxView",
            "box_style": "",
            "children": [
              "IPY_MODEL_a1e69ecfb519461e81e6b67803d171c6",
              "IPY_MODEL_b52b49a5ae4c436fbeb3bb44e6f1a625",
              "IPY_MODEL_2a565a52858d4ec187d7f8c15749cab4"
            ],
            "layout": "IPY_MODEL_7ecf03524c13424e9defa54b6d5fe71e"
          }
        },
        "a1e69ecfb519461e81e6b67803d171c6": {
          "model_module": "@jupyter-widgets/controls",
          "model_name": "HTMLModel",
          "model_module_version": "1.5.0",
          "state": {
            "_dom_classes": [],
            "_model_module": "@jupyter-widgets/controls",
            "_model_module_version": "1.5.0",
            "_model_name": "HTMLModel",
            "_view_count": null,
            "_view_module": "@jupyter-widgets/controls",
            "_view_module_version": "1.5.0",
            "_view_name": "HTMLView",
            "description": "",
            "description_tooltip": null,
            "layout": "IPY_MODEL_594337b8a4d84d33bb8aef7c2e78aede",
            "placeholder": "​",
            "style": "IPY_MODEL_ef926a891d354127ab04dba8796639d5",
            "value": "100%"
          }
        },
        "b52b49a5ae4c436fbeb3bb44e6f1a625": {
          "model_module": "@jupyter-widgets/controls",
          "model_name": "FloatProgressModel",
          "model_module_version": "1.5.0",
          "state": {
            "_dom_classes": [],
            "_model_module": "@jupyter-widgets/controls",
            "_model_module_version": "1.5.0",
            "_model_name": "FloatProgressModel",
            "_view_count": null,
            "_view_module": "@jupyter-widgets/controls",
            "_view_module_version": "1.5.0",
            "_view_name": "ProgressView",
            "bar_style": "success",
            "description": "",
            "description_tooltip": null,
            "layout": "IPY_MODEL_471c80f928944301b22b87210c319a0c",
            "max": 7,
            "min": 0,
            "orientation": "horizontal",
            "style": "IPY_MODEL_104f9d1bc83c490a9f7081657ca5be88",
            "value": 7
          }
        },
        "2a565a52858d4ec187d7f8c15749cab4": {
          "model_module": "@jupyter-widgets/controls",
          "model_name": "HTMLModel",
          "model_module_version": "1.5.0",
          "state": {
            "_dom_classes": [],
            "_model_module": "@jupyter-widgets/controls",
            "_model_module_version": "1.5.0",
            "_model_name": "HTMLModel",
            "_view_count": null,
            "_view_module": "@jupyter-widgets/controls",
            "_view_module_version": "1.5.0",
            "_view_name": "HTMLView",
            "description": "",
            "description_tooltip": null,
            "layout": "IPY_MODEL_1ecc6e58c3bb471d9ef94b277cf80bf2",
            "placeholder": "​",
            "style": "IPY_MODEL_aabe25d9782c4a61be1ac736d4ca7bd8",
            "value": " 7/7 [00:06&lt;00:00,  1.10it/s]"
          }
        },
        "7ecf03524c13424e9defa54b6d5fe71e": {
          "model_module": "@jupyter-widgets/base",
          "model_name": "LayoutModel",
          "model_module_version": "1.2.0",
          "state": {
            "_model_module": "@jupyter-widgets/base",
            "_model_module_version": "1.2.0",
            "_model_name": "LayoutModel",
            "_view_count": null,
            "_view_module": "@jupyter-widgets/base",
            "_view_module_version": "1.2.0",
            "_view_name": "LayoutView",
            "align_content": null,
            "align_items": null,
            "align_self": null,
            "border": null,
            "bottom": null,
            "display": null,
            "flex": null,
            "flex_flow": null,
            "grid_area": null,
            "grid_auto_columns": null,
            "grid_auto_flow": null,
            "grid_auto_rows": null,
            "grid_column": null,
            "grid_gap": null,
            "grid_row": null,
            "grid_template_areas": null,
            "grid_template_columns": null,
            "grid_template_rows": null,
            "height": null,
            "justify_content": null,
            "justify_items": null,
            "left": null,
            "margin": null,
            "max_height": null,
            "max_width": null,
            "min_height": null,
            "min_width": null,
            "object_fit": null,
            "object_position": null,
            "order": null,
            "overflow": null,
            "overflow_x": null,
            "overflow_y": null,
            "padding": null,
            "right": null,
            "top": null,
            "visibility": null,
            "width": null
          }
        },
        "594337b8a4d84d33bb8aef7c2e78aede": {
          "model_module": "@jupyter-widgets/base",
          "model_name": "LayoutModel",
          "model_module_version": "1.2.0",
          "state": {
            "_model_module": "@jupyter-widgets/base",
            "_model_module_version": "1.2.0",
            "_model_name": "LayoutModel",
            "_view_count": null,
            "_view_module": "@jupyter-widgets/base",
            "_view_module_version": "1.2.0",
            "_view_name": "LayoutView",
            "align_content": null,
            "align_items": null,
            "align_self": null,
            "border": null,
            "bottom": null,
            "display": null,
            "flex": null,
            "flex_flow": null,
            "grid_area": null,
            "grid_auto_columns": null,
            "grid_auto_flow": null,
            "grid_auto_rows": null,
            "grid_column": null,
            "grid_gap": null,
            "grid_row": null,
            "grid_template_areas": null,
            "grid_template_columns": null,
            "grid_template_rows": null,
            "height": null,
            "justify_content": null,
            "justify_items": null,
            "left": null,
            "margin": null,
            "max_height": null,
            "max_width": null,
            "min_height": null,
            "min_width": null,
            "object_fit": null,
            "object_position": null,
            "order": null,
            "overflow": null,
            "overflow_x": null,
            "overflow_y": null,
            "padding": null,
            "right": null,
            "top": null,
            "visibility": null,
            "width": null
          }
        },
        "ef926a891d354127ab04dba8796639d5": {
          "model_module": "@jupyter-widgets/controls",
          "model_name": "DescriptionStyleModel",
          "model_module_version": "1.5.0",
          "state": {
            "_model_module": "@jupyter-widgets/controls",
            "_model_module_version": "1.5.0",
            "_model_name": "DescriptionStyleModel",
            "_view_count": null,
            "_view_module": "@jupyter-widgets/base",
            "_view_module_version": "1.2.0",
            "_view_name": "StyleView",
            "description_width": ""
          }
        },
        "471c80f928944301b22b87210c319a0c": {
          "model_module": "@jupyter-widgets/base",
          "model_name": "LayoutModel",
          "model_module_version": "1.2.0",
          "state": {
            "_model_module": "@jupyter-widgets/base",
            "_model_module_version": "1.2.0",
            "_model_name": "LayoutModel",
            "_view_count": null,
            "_view_module": "@jupyter-widgets/base",
            "_view_module_version": "1.2.0",
            "_view_name": "LayoutView",
            "align_content": null,
            "align_items": null,
            "align_self": null,
            "border": null,
            "bottom": null,
            "display": null,
            "flex": null,
            "flex_flow": null,
            "grid_area": null,
            "grid_auto_columns": null,
            "grid_auto_flow": null,
            "grid_auto_rows": null,
            "grid_column": null,
            "grid_gap": null,
            "grid_row": null,
            "grid_template_areas": null,
            "grid_template_columns": null,
            "grid_template_rows": null,
            "height": null,
            "justify_content": null,
            "justify_items": null,
            "left": null,
            "margin": null,
            "max_height": null,
            "max_width": null,
            "min_height": null,
            "min_width": null,
            "object_fit": null,
            "object_position": null,
            "order": null,
            "overflow": null,
            "overflow_x": null,
            "overflow_y": null,
            "padding": null,
            "right": null,
            "top": null,
            "visibility": null,
            "width": null
          }
        },
        "104f9d1bc83c490a9f7081657ca5be88": {
          "model_module": "@jupyter-widgets/controls",
          "model_name": "ProgressStyleModel",
          "model_module_version": "1.5.0",
          "state": {
            "_model_module": "@jupyter-widgets/controls",
            "_model_module_version": "1.5.0",
            "_model_name": "ProgressStyleModel",
            "_view_count": null,
            "_view_module": "@jupyter-widgets/base",
            "_view_module_version": "1.2.0",
            "_view_name": "StyleView",
            "bar_color": null,
            "description_width": ""
          }
        },
        "1ecc6e58c3bb471d9ef94b277cf80bf2": {
          "model_module": "@jupyter-widgets/base",
          "model_name": "LayoutModel",
          "model_module_version": "1.2.0",
          "state": {
            "_model_module": "@jupyter-widgets/base",
            "_model_module_version": "1.2.0",
            "_model_name": "LayoutModel",
            "_view_count": null,
            "_view_module": "@jupyter-widgets/base",
            "_view_module_version": "1.2.0",
            "_view_name": "LayoutView",
            "align_content": null,
            "align_items": null,
            "align_self": null,
            "border": null,
            "bottom": null,
            "display": null,
            "flex": null,
            "flex_flow": null,
            "grid_area": null,
            "grid_auto_columns": null,
            "grid_auto_flow": null,
            "grid_auto_rows": null,
            "grid_column": null,
            "grid_gap": null,
            "grid_row": null,
            "grid_template_areas": null,
            "grid_template_columns": null,
            "grid_template_rows": null,
            "height": null,
            "justify_content": null,
            "justify_items": null,
            "left": null,
            "margin": null,
            "max_height": null,
            "max_width": null,
            "min_height": null,
            "min_width": null,
            "object_fit": null,
            "object_position": null,
            "order": null,
            "overflow": null,
            "overflow_x": null,
            "overflow_y": null,
            "padding": null,
            "right": null,
            "top": null,
            "visibility": null,
            "width": null
          }
        },
        "aabe25d9782c4a61be1ac736d4ca7bd8": {
          "model_module": "@jupyter-widgets/controls",
          "model_name": "DescriptionStyleModel",
          "model_module_version": "1.5.0",
          "state": {
            "_model_module": "@jupyter-widgets/controls",
            "_model_module_version": "1.5.0",
            "_model_name": "DescriptionStyleModel",
            "_view_count": null,
            "_view_module": "@jupyter-widgets/base",
            "_view_module_version": "1.2.0",
            "_view_name": "StyleView",
            "description_width": ""
          }
        }
      }
    }
  },
  "nbformat": 4,
  "nbformat_minor": 0
}